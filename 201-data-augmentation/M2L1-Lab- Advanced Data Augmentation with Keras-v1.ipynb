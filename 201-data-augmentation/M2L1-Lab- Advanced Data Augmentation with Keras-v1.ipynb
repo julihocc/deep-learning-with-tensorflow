{
 "cells": [
  {
   "cell_type": "markdown",
   "id": "90114bf1-e124-422a-b320-d697ece7fb50",
   "metadata": {},
   "source": [
    "<center><img src=\"https://cf-courses-data.s3.us.cloud-object-storage.appdomain.cloud/assets/logos/SN_web_lightmode.png\" width=\"200\" alt=\"Skills Network Logo\"  /></center>\n",
    "  \n"
   ]
  },
  {
   "cell_type": "markdown",
   "id": "4b96e545-06db-4455-9870-612987f272ba",
   "metadata": {},
   "source": [
    "## Lab: Advanced Data Augmentation with Keras \n"
   ]
  },
  {
   "cell_type": "markdown",
   "id": "701994ae-d6bc-410f-96e2-150d08adb67e",
   "metadata": {},
   "source": [
    "##### Estimated time needed:  30 minutes\n"
   ]
  },
  {
   "cell_type": "markdown",
   "id": "c7f1829b-1834-4224-9ce4-ca566ce24f3a",
   "metadata": {},
   "source": [
    "You will learn to implement and experiment with various data augmentation techniques using Keras in this lab. \n",
    "\n",
    "#### Learning objectives \n",
    "\n",
    "By the end of this lab, you will: \n",
    "\n",
    "- Implement various data augmentation techniques using Keras \n",
    "- Implement feature-wise and sample-wise normalization on the data set. \n",
    "- Define and apply a custom augmentation function that adds random noise to images. \n",
    "- Display the augmented images to understand the effect of different augmentation techniques.  \n"
   ]
  },
  {
   "cell_type": "markdown",
   "id": "af34c87b-3f5d-4ade-8207-66a709d2410f",
   "metadata": {},
   "source": [
    "#### Step-by-step instructions \n",
    "\n",
    "##### Step 1: Setup the environment \n",
    "\n",
    "First, you need to import the necessary libraries and load the data set as follows: \n"
   ]
  },
  {
   "cell_type": "code",
   "execution_count": null,
   "id": "399663af-6081-4fec-a6d4-a108bac9a110",
   "metadata": {},
   "outputs": [
    {
     "name": "stdout",
     "output_type": "stream",
     "text": [
      "Requirement already satisfied: tensorflow==2.16.2 in /usr/local/python/3.12.1/lib/python3.12/site-packages (2.16.2)\n",
      "Requirement already satisfied: matplotlib==3.9.1 in /usr/local/python/3.12.1/lib/python3.12/site-packages (3.9.1)\n",
      "Requirement already satisfied: scipy in /home/codespace/.local/lib/python3.12/site-packages (1.14.1)\n",
      "Requirement already satisfied: absl-py>=1.0.0 in /usr/local/python/3.12.1/lib/python3.12/site-packages (from tensorflow==2.16.2) (2.1.0)\n",
      "Requirement already satisfied: astunparse>=1.6.0 in /usr/local/python/3.12.1/lib/python3.12/site-packages (from tensorflow==2.16.2) (1.6.3)\n",
      "Requirement already satisfied: flatbuffers>=23.5.26 in /usr/local/python/3.12.1/lib/python3.12/site-packages (from tensorflow==2.16.2) (24.12.23)\n",
      "Requirement already satisfied: gast!=0.5.0,!=0.5.1,!=0.5.2,>=0.2.1 in /usr/local/python/3.12.1/lib/python3.12/site-packages (from tensorflow==2.16.2) (0.6.0)\n",
      "Requirement already satisfied: google-pasta>=0.1.1 in /usr/local/python/3.12.1/lib/python3.12/site-packages (from tensorflow==2.16.2) (0.2.0)\n",
      "Requirement already satisfied: h5py>=3.10.0 in /usr/local/python/3.12.1/lib/python3.12/site-packages (from tensorflow==2.16.2) (3.12.1)\n",
      "Requirement already satisfied: libclang>=13.0.0 in /usr/local/python/3.12.1/lib/python3.12/site-packages (from tensorflow==2.16.2) (18.1.1)\n",
      "Requirement already satisfied: ml-dtypes~=0.3.1 in /usr/local/python/3.12.1/lib/python3.12/site-packages (from tensorflow==2.16.2) (0.3.2)\n",
      "Requirement already satisfied: opt-einsum>=2.3.2 in /usr/local/python/3.12.1/lib/python3.12/site-packages (from tensorflow==2.16.2) (3.4.0)\n",
      "Requirement already satisfied: packaging in /home/codespace/.local/lib/python3.12/site-packages (from tensorflow==2.16.2) (24.2)\n",
      "Requirement already satisfied: protobuf!=4.21.0,!=4.21.1,!=4.21.2,!=4.21.3,!=4.21.4,!=4.21.5,<5.0.0dev,>=3.20.3 in /usr/local/python/3.12.1/lib/python3.12/site-packages (from tensorflow==2.16.2) (4.25.5)\n",
      "Requirement already satisfied: requests<3,>=2.21.0 in /home/codespace/.local/lib/python3.12/site-packages (from tensorflow==2.16.2) (2.32.3)\n",
      "Requirement already satisfied: setuptools in /home/codespace/.local/lib/python3.12/site-packages (from tensorflow==2.16.2) (75.6.0)\n",
      "Requirement already satisfied: six>=1.12.0 in /home/codespace/.local/lib/python3.12/site-packages (from tensorflow==2.16.2) (1.17.0)\n",
      "Requirement already satisfied: termcolor>=1.1.0 in /usr/local/python/3.12.1/lib/python3.12/site-packages (from tensorflow==2.16.2) (2.5.0)\n",
      "Requirement already satisfied: typing-extensions>=3.6.6 in /home/codespace/.local/lib/python3.12/site-packages (from tensorflow==2.16.2) (4.12.2)\n",
      "Requirement already satisfied: wrapt>=1.11.0 in /usr/local/python/3.12.1/lib/python3.12/site-packages (from tensorflow==2.16.2) (1.17.0)\n",
      "Requirement already satisfied: grpcio<2.0,>=1.24.3 in /usr/local/python/3.12.1/lib/python3.12/site-packages (from tensorflow==2.16.2) (1.68.1)\n",
      "Requirement already satisfied: tensorboard<2.17,>=2.16 in /usr/local/python/3.12.1/lib/python3.12/site-packages (from tensorflow==2.16.2) (2.16.2)\n",
      "Requirement already satisfied: keras>=3.0.0 in /usr/local/python/3.12.1/lib/python3.12/site-packages (from tensorflow==2.16.2) (3.7.0)\n",
      "Requirement already satisfied: numpy<2.0.0,>=1.26.0 in /usr/local/python/3.12.1/lib/python3.12/site-packages (from tensorflow==2.16.2) (1.26.4)\n",
      "Requirement already satisfied: contourpy>=1.0.1 in /home/codespace/.local/lib/python3.12/site-packages (from matplotlib==3.9.1) (1.3.1)\n",
      "Requirement already satisfied: cycler>=0.10 in /home/codespace/.local/lib/python3.12/site-packages (from matplotlib==3.9.1) (0.12.1)\n",
      "Requirement already satisfied: fonttools>=4.22.0 in /home/codespace/.local/lib/python3.12/site-packages (from matplotlib==3.9.1) (4.55.3)\n",
      "Requirement already satisfied: kiwisolver>=1.3.1 in /home/codespace/.local/lib/python3.12/site-packages (from matplotlib==3.9.1) (1.4.7)\n",
      "Requirement already satisfied: pillow>=8 in /home/codespace/.local/lib/python3.12/site-packages (from matplotlib==3.9.1) (11.0.0)\n",
      "Requirement already satisfied: pyparsing>=2.3.1 in /home/codespace/.local/lib/python3.12/site-packages (from matplotlib==3.9.1) (3.2.0)\n",
      "Requirement already satisfied: python-dateutil>=2.7 in /home/codespace/.local/lib/python3.12/site-packages (from matplotlib==3.9.1) (2.9.0.post0)\n",
      "Requirement already satisfied: wheel<1.0,>=0.23.0 in /usr/local/python/3.12.1/lib/python3.12/site-packages (from astunparse>=1.6.0->tensorflow==2.16.2) (0.45.1)\n",
      "Requirement already satisfied: rich in /usr/local/python/3.12.1/lib/python3.12/site-packages (from keras>=3.0.0->tensorflow==2.16.2) (13.9.4)\n",
      "Requirement already satisfied: namex in /usr/local/python/3.12.1/lib/python3.12/site-packages (from keras>=3.0.0->tensorflow==2.16.2) (0.0.8)\n",
      "Requirement already satisfied: optree in /usr/local/python/3.12.1/lib/python3.12/site-packages (from keras>=3.0.0->tensorflow==2.16.2) (0.13.1)\n",
      "Requirement already satisfied: charset-normalizer<4,>=2 in /home/codespace/.local/lib/python3.12/site-packages (from requests<3,>=2.21.0->tensorflow==2.16.2) (3.4.0)\n",
      "Requirement already satisfied: idna<4,>=2.5 in /home/codespace/.local/lib/python3.12/site-packages (from requests<3,>=2.21.0->tensorflow==2.16.2) (3.10)\n",
      "Requirement already satisfied: urllib3<3,>=1.21.1 in /home/codespace/.local/lib/python3.12/site-packages (from requests<3,>=2.21.0->tensorflow==2.16.2) (2.2.3)\n",
      "Requirement already satisfied: certifi>=2017.4.17 in /home/codespace/.local/lib/python3.12/site-packages (from requests<3,>=2.21.0->tensorflow==2.16.2) (2024.8.30)\n",
      "Requirement already satisfied: markdown>=2.6.8 in /usr/local/python/3.12.1/lib/python3.12/site-packages (from tensorboard<2.17,>=2.16->tensorflow==2.16.2) (3.7)\n",
      "Requirement already satisfied: tensorboard-data-server<0.8.0,>=0.7.0 in /usr/local/python/3.12.1/lib/python3.12/site-packages (from tensorboard<2.17,>=2.16->tensorflow==2.16.2) (0.7.2)\n",
      "Requirement already satisfied: werkzeug>=1.0.1 in /usr/local/python/3.12.1/lib/python3.12/site-packages (from tensorboard<2.17,>=2.16->tensorflow==2.16.2) (3.1.3)\n",
      "Requirement already satisfied: MarkupSafe>=2.1.1 in /home/codespace/.local/lib/python3.12/site-packages (from werkzeug>=1.0.1->tensorboard<2.17,>=2.16->tensorflow==2.16.2) (3.0.2)\n",
      "Requirement already satisfied: markdown-it-py>=2.2.0 in /usr/local/python/3.12.1/lib/python3.12/site-packages (from rich->keras>=3.0.0->tensorflow==2.16.2) (3.0.0)\n",
      "Requirement already satisfied: pygments<3.0.0,>=2.13.0 in /home/codespace/.local/lib/python3.12/site-packages (from rich->keras>=3.0.0->tensorflow==2.16.2) (2.18.0)\n",
      "Requirement already satisfied: mdurl~=0.1 in /usr/local/python/3.12.1/lib/python3.12/site-packages (from markdown-it-py>=2.2.0->rich->keras>=3.0.0->tensorflow==2.16.2) (0.1.2)\n",
      "Note: you may need to restart the kernel to use updated packages.\n"
     ]
    }
   ],
   "source": [
    "# Install required libraries\n",
    "# %pip install tensorflow==2.16.2 matplotlib==3.9.1 scipy\n"
   ]
  },
  {
   "cell_type": "code",
   "execution_count": null,
   "metadata": {},
   "outputs": [
    {
     "name": "stderr",
     "output_type": "stream",
     "text": [
      "2024-12-31 20:58:39.317856: I external/local_tsl/tsl/cuda/cudart_stub.cc:32] Could not find cuda drivers on your machine, GPU will not be used.\n",
      "2024-12-31 20:58:39.809977: I external/local_tsl/tsl/cuda/cudart_stub.cc:32] Could not find cuda drivers on your machine, GPU will not be used.\n",
      "2024-12-31 20:58:40.167842: E external/local_xla/xla/stream_executor/cuda/cuda_fft.cc:479] Unable to register cuFFT factory: Attempting to register factory for plugin cuFFT when one has already been registered\n",
      "2024-12-31 20:58:40.692067: E external/local_xla/xla/stream_executor/cuda/cuda_dnn.cc:10575] Unable to register cuDNN factory: Attempting to register factory for plugin cuDNN when one has already been registered\n",
      "2024-12-31 20:58:40.692875: E external/local_xla/xla/stream_executor/cuda/cuda_blas.cc:1442] Unable to register cuBLAS factory: Attempting to register factory for plugin cuBLAS when one has already been registered\n",
      "2024-12-31 20:58:41.971543: I tensorflow/core/platform/cpu_feature_guard.cc:210] This TensorFlow binary is optimized to use available CPU instructions in performance-critical operations.\n",
      "To enable the following instructions: AVX2 FMA, in other operations, rebuild TensorFlow with the appropriate compiler flags.\n",
      "2024-12-31 20:58:46.919628: W tensorflow/compiler/tf2tensorrt/utils/py_utils.cc:38] TF-TRT Warning: Could not find TensorRT\n"
     ]
    }
   ],
   "source": [
    "\n",
    "# Import necessary libraries\n",
    "import tensorflow as tf\n",
    "import numpy as np\n",
    "import matplotlib.pyplot as plt\n",
    "from tensorflow.keras.preprocessing.image import ImageDataGenerator\n",
    "\n",
    "# Load CIFAR-10 dataset for training images\n",
    "(x_train, y_train), (x_test, y_test) = tf.keras.datasets.cifar10.load_data()\n",
    "\n",
    "# Normalize the pixel values for augmentation\n",
    "x_train = x_train.astype('float32') / 255.0\n",
    "x_test = x_test.astype('float32') / 255.0\n",
    "\n",
    "# Display a sample of the training images\n",
    "plt.figure(figsize=(10, 10))\n",
    "for i in range(16):\n",
    "    plt.subplot(4, 4, i+1)\n",
    "    plt.imshow(x_train[i])\n",
    "    plt.axis('off')\n",
    "plt.show()\n"
   ]
  },
  {
   "cell_type": "markdown",
   "id": "bf6f0396-53cb-4420-ae98-adcd653e4a8c",
   "metadata": {},
   "source": [
    "### **Create sample.jpg for the Lab**\n"
   ]
  },
  {
   "cell_type": "code",
   "execution_count": null,
   "id": "7fb34a1a-9e98-4e61-90e7-0164fdd8829a",
   "metadata": {},
   "outputs": [],
   "source": [
    "from PIL import Image, ImageDraw\n",
    "\n",
    "# Create a blank white image\n",
    "image = Image.new('RGB', (224, 224), color = (255, 255, 255))\n",
    "\n",
    "# Draw a red square\n",
    "draw = ImageDraw.Draw(image)\n",
    "draw.rectangle([(50, 50), (174, 174)], fill=(255, 0, 0))\n",
    "\n",
    "# Save the image\n",
    "image.save('sample.jpg')\n"
   ]
  },
  {
   "cell_type": "code",
   "execution_count": null,
   "id": "8d5619cb-a8aa-4fa0-a4f1-9bedb27214fe",
   "metadata": {},
   "outputs": [],
   "source": [
    "import numpy as np \n",
    "import matplotlib.pyplot as plt \n",
    "from tensorflow.keras.preprocessing.image import ImageDataGenerator, load_img, img_to_array \n",
    "\n",
    "# Load a sample image \n",
    "img_path = 'sample.jpg' \n",
    "img = load_img(img_path) \n",
    "x = img_to_array(img) \n",
    "x = np.expand_dims(x, axis=0) "
   ]
  },
  {
   "cell_type": "markdown",
   "id": "b9c6b64b-1267-4729-858a-f90907a20fbb",
   "metadata": {},
   "source": [
    "In the code: \n",
    "- `!pip install tensorflow==2.16.2 matplotlib==3.9.1` installs the specified versions of `TensorFlow and Matplotlib`.  \n",
    "\n",
    "- `tensorflow` is the main library for machine learning in Python.  \n",
    "\n",
    "- `Model` is used to create a model with the Functional API. \n",
    "\n",
    "- `Input` and ‘Dense’ are types of layers that you will use in your model.  \n"
   ]
  },
  {
   "cell_type": "markdown",
   "id": "4c78c902-0c5a-4c26-a06e-f031b1553fa7",
   "metadata": {},
   "source": [
    "#### Step 2: Basic data augmentation \n",
    "\n",
    "Apply basic augmentations such as rotation, width shift, height shift, shear, zoom, and horizontal flip using the ImageDataGenerator as follows:\n"
   ]
  },
  {
   "cell_type": "code",
   "execution_count": null,
   "id": "35a94e16-b0a0-4485-9dc4-d20d338ee12a",
   "metadata": {},
   "outputs": [],
   "source": [
    "import numpy as np\n",
    "import matplotlib.pyplot as plt\n",
    "from tensorflow.keras.preprocessing.image import ImageDataGenerator, load_img, img_to_array\n",
    "\n",
    "# Load the sample image\n",
    "img_path = 'sample.jpg'\n",
    "img = load_img(img_path)\n",
    "x = img_to_array(img)\n",
    "x = np.expand_dims(x, axis=0)\n",
    "\n",
    "# Create an instance of ImageDataGenerator with basic augmentations\n",
    "datagen = ImageDataGenerator(\n",
    "    rotation_range=40,\n",
    "    width_shift_range=0.2,\n",
    "    height_shift_range=0.2,\n",
    "    shear_range=0.2,\n",
    "    zoom_range=0.2,\n",
    "    horizontal_flip=True,\n",
    "    fill_mode='nearest'\n",
    ")\n",
    "\n",
    "# Generate batches of augmented images\n",
    "i = 0\n",
    "for batch in datagen.flow(x, batch_size=1):\n",
    "    plt.figure(i)\n",
    "    imgplot = plt.imshow(batch[0].astype('uint8'))\n",
    "    i += 1\n",
    "    if i % 4 == 0:\n",
    "        break\n",
    "\n",
    "plt.show()\n"
   ]
  },
  {
   "cell_type": "markdown",
   "id": "f1b6677d-f308-46b9-9a6e-c26b60fc519c",
   "metadata": {},
   "source": [
    "\n",
    "#### Step 3: Feature-wise and sample-wise normalization \n",
    "\n",
    "Implement feature-wise and sample-wise normalization on the data set as follows:    \n"
   ]
  },
  {
   "cell_type": "code",
   "execution_count": null,
   "id": "6caa15d0-7d18-407f-9337-ac0148facb88",
   "metadata": {},
   "outputs": [],
   "source": [
    "# Create an instance of ImageDataGenerator with normalization options\n",
    "datagen = ImageDataGenerator(\n",
    "    featurewise_center=True,\n",
    "    featurewise_std_normalization=True,\n",
    "    samplewise_center=True,\n",
    "    samplewise_std_normalization=True\n",
    ")\n",
    "\n",
    "# Load the sample image again and fit the generator (normally done on the training set)\n",
    "datagen.fit(x)\n",
    "\n",
    "# Generate batches of normalized images\n",
    "i = 0\n",
    "for batch in datagen.flow(x, batch_size=1):\n",
    "    plt.figure(i)\n",
    "    imgplot = plt.imshow(batch[0].astype('uint8'))\n",
    "    i += 1\n",
    "    if i % 4 == 0:\n",
    "        break\n",
    "\n",
    "plt.show()\n"
   ]
  },
  {
   "cell_type": "markdown",
   "id": "2dd949b3-96d0-4951-98ac-bb5a0a045c91",
   "metadata": {},
   "source": [
    "\n",
    "\n",
    "#### Step 4: Custom data augmentation function \n",
    "\n",
    "Next, you define and apply a custom augmentation function that adds random noise to images as follows: \n"
   ]
  },
  {
   "cell_type": "code",
   "execution_count": null,
   "id": "8df7108e-7444-4dbb-8e8e-c8b2e99a5b64",
   "metadata": {},
   "outputs": [],
   "source": [
    "# Define a custom data augmentation function\n",
    "def add_random_noise(image):\n",
    "    noise = np.random.normal(0, 0.1, image.shape)\n",
    "    return image + noise\n",
    "\n",
    "# Create an instance of ImageDataGenerator with the custom augmentation\n",
    "datagen = ImageDataGenerator(preprocessing_function=add_random_noise)\n",
    "\n",
    "# Generate batches of augmented images with noise\n",
    "i = 0\n",
    "for batch in datagen.flow(x, batch_size=1):\n",
    "    plt.figure(i)\n",
    "    imgplot = plt.imshow(batch[0].astype('uint8'))\n",
    "    i += 1\n",
    "    if i % 4 == 0:\n",
    "        break\n",
    "\n",
    "plt.show()"
   ]
  },
  {
   "cell_type": "markdown",
   "id": "66dbc513-48d5-4519-a154-12bf6c65912b",
   "metadata": {},
   "source": [
    "#### Step 5: Visualize augmented images \n",
    "\n",
    "Visualize the augmented images to understand the impact of each augmentation technique. \n"
   ]
  },
  {
   "cell_type": "code",
   "execution_count": null,
   "id": "628d361f-09f7-458f-8bf4-275560565c5c",
   "metadata": {},
   "outputs": [],
   "source": [
    "# Visualizing multiple augmented versions of the same image\n",
    "plt.figure(figsize=(10, 10))\n",
    "for i, batch in enumerate(datagen.flow(x, batch_size=1)):\n",
    "    if i >= 4:  # Show only 4 versions\n",
    "        break\n",
    "    plt.subplot(2, 2, i+1)\n",
    "    plt.imshow(batch[0].astype('uint8'))\n",
    "plt.show()\n"
   ]
  },
  {
   "cell_type": "markdown",
   "id": "2585db70-f1b3-4a50-8c2c-e640e00984be",
   "metadata": {},
   "source": [
    "\n",
    "This Markdown explanation will provide clarity in a Jupyter Notebook, making the code and its purpose easier to understand.\n"
   ]
  },
  {
   "cell_type": "markdown",
   "id": "85bb5614-c558-4e30-ad0a-3ac08abf8d66",
   "metadata": {},
   "source": [
    "## Practice Exercises:\n"
   ]
  },
  {
   "cell_type": "markdown",
   "id": "554c68e7-e6b4-4104-ac16-e3e6a07ace66",
   "metadata": {},
   "source": [
    "### Exercise 1: Apply and Visualize Different Augmentation Techniques \n",
    "\n",
    "  \n",
    "\n",
    "Objective: Experiment with different augmentation techniques and visualize their effects. \n"
   ]
  },
  {
   "cell_type": "markdown",
   "id": "2a06bd7b-20ce-4120-aa62-bb9239534493",
   "metadata": {},
   "source": [
    "### Instructions: \n",
    "\n",
    "1. Create an instance of `ImageDataGenerator` with various augmentations such as rotation, width shift, height shift, shear, zoom, and horizontal flip. \n",
    "\n",
    "2. Generate and visualize augmented images. \n"
   ]
  },
  {
   "cell_type": "code",
   "execution_count": null,
   "id": "d69a6ed3-708c-48a3-89c6-805c0092b03a",
   "metadata": {},
   "outputs": [],
   "source": []
  },
  {
   "cell_type": "markdown",
   "id": "589d33ab-7120-46b5-a81a-dd84fc615163",
   "metadata": {},
   "source": [
    "<details>\n",
    "    <summary>Click here for Solution</summary>\n",
    "\n",
    "```python\n",
    "\n",
    " \n",
    "\n",
    "from tensorflow.keras.preprocessing.image import ImageDataGenerator, load_img, img_to_array, array_to_img  \n",
    "\n",
    "import matplotlib.pyplot as plt  \n",
    "\n",
    "import numpy as np  \n",
    "\n",
    " \n",
    "\n",
    "# Define the augmentation parameters  \n",
    "\n",
    "datagen = ImageDataGenerator(  \n",
    "\n",
    "    rotation_range=40,  \n",
    "\n",
    "    width_shift_range=0.2,  \n",
    "\n",
    "    height_shift_range=0.2,  \n",
    "\n",
    "    shear_range=0.2,  \n",
    "\n",
    "    zoom_range=0.2,  \n",
    "\n",
    "    horizontal_flip=True,  \n",
    "\n",
    "    fill_mode='nearest'  \n",
    "\n",
    ")  \n",
    "\n",
    " \n",
    "\n",
    "# Load and preprocess the dataset  \n",
    "\n",
    "image_paths = [  \n",
    "\n",
    "    'sample_images/training_images1.jpg',  \n",
    "\n",
    "    'sample_images/training_images2.jpg',  \n",
    "\n",
    "    'sample_images/training_images3.jpg'  \n",
    "\n",
    "]  \n",
    "\n",
    " \n",
    "\n",
    "training_images = []  \n",
    "\n",
    "for image_path in image_paths:  \n",
    "\n",
    "    img = load_img(image_path, target_size=(224, 224))  \n",
    "\n",
    "    img_array = img_to_array(img)  \n",
    "\n",
    "    training_images.append(img_array)  \n",
    "\n",
    "training_images = np.array(training_images)  \n",
    "\n",
    " \n",
    "\n",
    "# Generate and visualize augmented images  \n",
    "\n",
    "i = 0  \n",
    "\n",
    "for batch in datagen.flow(training_images, batch_size=1):  \n",
    "\n",
    "    plt.figure(i)  \n",
    "\n",
    "    imgplot = plt.imshow(array_to_img(batch[0]))  \n",
    "\n",
    "    plt.title(f'Augmented Image {i + 1}')  \n",
    "\n",
    "    i += 1  \n",
    "\n",
    "    if i % 4 == 0:  \n",
    "\n",
    "        break  \n",
    "\n",
    "plt.show()  \n",
    "\n",
    " ```   \n",
    "\n",
    "</details>\n"
   ]
  },
  {
   "cell_type": "markdown",
   "id": "e89e8d94-4360-4dc8-9f7e-7a3321308aed",
   "metadata": {},
   "source": [
    "### Exercise 2: Implement Feature-wise and Sample-wise Normalization\n",
    " \n",
    "Objective: Apply feature-wise and sample-wise normalization to the dataset.\n",
    " \n",
    "Instructions:\n",
    "1. Create an instance of `ImageDataGenerator` with feature-wise and sample-wise normalization.\n",
    "2. Fit the `ImageDataGenerator` to the data set and visualize the normalized images.\n"
   ]
  },
  {
   "cell_type": "code",
   "execution_count": null,
   "id": "aa2d0b83-28db-4aff-8667-668d9a57f288",
   "metadata": {},
   "outputs": [],
   "source": []
  },
  {
   "cell_type": "markdown",
   "id": "347d81c1-0cb1-45cc-86fb-f107a3aa069a",
   "metadata": {},
   "source": [
    "<details>\n",
    "    <summary>Click here for Solution</summary>\n",
    "\n",
    "```python\n",
    " \n",
    "\n",
    "# Create an instance of ImageDataGenerator with normalization options  \n",
    "\n",
    "datagen = ImageDataGenerator(  \n",
    "\n",
    "    featurewise_center=True,  \n",
    "\n",
    "    featurewise_std_normalization=True,  \n",
    "\n",
    "    samplewise_center=True,  \n",
    "\n",
    "    samplewise_std_normalization=True  \n",
    "\n",
    ")  \n",
    "\n",
    " \n",
    "\n",
    "# Fit the ImageDataGenerator to the dataset  \n",
    "\n",
    "datagen.fit(training_images)  \n",
    "\n",
    " \n",
    "\n",
    "# Generate and visualize normalized images  \n",
    "\n",
    "i = 0  \n",
    "\n",
    "for batch in datagen.flow(training_images, batch_size=1):  \n",
    "\n",
    "    plt.figure(i)  \n",
    "\n",
    "    imgplot = plt.imshow(array_to_img(batch[0]))  \n",
    "\n",
    "    plt.title(f'Normalized Image {i + 1}')  \n",
    "\n",
    "    i += 1  \n",
    "\n",
    "    if i % 4 == 0:  \n",
    "\n",
    "        break  \n",
    "\n",
    "plt.show()  \n",
    "\n",
    " \n",
    "\n",
    " ```   \n",
    "\n",
    "</details>\n",
    "\n",
    "  \n"
   ]
  },
  {
   "cell_type": "markdown",
   "id": "c622bed4-e2ca-4d71-907c-f2e90626287c",
   "metadata": {},
   "source": [
    "### Exercise 3: Create and Apply a Custom Data Augmentation Function\n",
    " \n",
    "Objective: Define a custom data augmentation function that adds random noise to images and apply it.\n",
    " \n",
    "Instructions:\n",
    "1. Define a function that adds random noise to an image.\n",
    "2. Create an instance of `ImageDataGenerator` with the custom augmentation function.\n",
    "3. Generate and visualize augmented images.\n"
   ]
  },
  {
   "cell_type": "code",
   "execution_count": null,
   "id": "390d1c6f-6df1-4989-b78d-e4a3ce0d1656",
   "metadata": {},
   "outputs": [],
   "source": []
  },
  {
   "cell_type": "markdown",
   "id": "4cb17eac-676c-471f-a7c7-098cdf9ac0df",
   "metadata": {},
   "source": [
    "<details>\n",
    "    <summary>Click here for Solution</summary>\n",
    "\n",
    "```python\n",
    "\n",
    " \n",
    "\n",
    "# Define a custom augmentation function to add random noise  \n",
    "\n",
    "def add_random_noise(image):  \n",
    "\n",
    "    noise = np.random.normal(0, 0.1, image.shape)  \n",
    "\n",
    "    return image + noise  \n",
    "\n",
    " \n",
    "\n",
    "# Create an instance of ImageDataGenerator with custom augmentation  \n",
    "\n",
    "datagen = ImageDataGenerator(preprocessing_function=add_random_noise)  \n",
    "\n",
    " \n",
    "\n",
    "# Generate and visualize augmented images  \n",
    "\n",
    "i = 0  \n",
    "\n",
    "for batch in datagen.flow(training_images, batch_size=1):  \n",
    "\n",
    "    plt.figure(i)  \n",
    "\n",
    "    imgplot = plt.imshow(array_to_img(batch[0]))  \n",
    "\n",
    "    plt.title(f'Noisy Image {i + 1}')  \n",
    "\n",
    "    i += 1  \n",
    "\n",
    "    if i % 4 == 0:  \n",
    "\n",
    "        break  \n",
    "\n",
    "plt.show()  \n",
    "\n",
    " ```   \n",
    "\n",
    "</details>\n"
   ]
  },
  {
   "cell_type": "markdown",
   "id": "49ca74be-f7f6-4c0d-89ce-e4e36343bac1",
   "metadata": {},
   "source": [
    "## **Conclusion**\n",
    "Congratulations! You have successfully implemented and experimented with various data augmentation techniques using Keras. This lab exercise demonstrated how to use Keras to enhance your datasets through augmentation and normalization techniques. \n"
   ]
  },
  {
   "cell_type": "markdown",
   "id": "c34abf1c-05e3-4dd1-8c90-0f8fa6de3d46",
   "metadata": {},
   "source": [
    "## Authors\n"
   ]
  },
  {
   "cell_type": "markdown",
   "id": "cff88786-4630-45f7-a020-0d3266b9d87e",
   "metadata": {},
   "source": [
    "Skillup \n"
   ]
  },
  {
   "cell_type": "markdown",
   "id": "7df492bd-29f6-49f7-b7e7-67b3b39b0b3d",
   "metadata": {},
   "source": [
    "Copyright © IBM Corporation. All rights reserved.\n"
   ]
  }
 ],
 "metadata": {
  "kernelspec": {
   "display_name": "Python 3",
   "language": "python",
   "name": "python3"
  },
  "language_info": {
   "codemirror_mode": {
    "name": "ipython",
    "version": 3
   },
   "file_extension": ".py",
   "mimetype": "text/x-python",
   "name": "python",
   "nbconvert_exporter": "python",
   "pygments_lexer": "ipython3",
   "version": "3.12.1"
  },
  "prev_pub_hash": "2f1f7cc6cc119cc4a7793f3c85e225e54885fff95809aab0c888496c80bd7719"
 },
 "nbformat": 4,
 "nbformat_minor": 4
}
