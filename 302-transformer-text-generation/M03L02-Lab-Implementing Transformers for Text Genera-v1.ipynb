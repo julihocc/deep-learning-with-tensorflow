{
  "cells": [
    {
      "cell_type": "markdown",
      "metadata": {
        "id": "view-in-github",
        "colab_type": "text"
      },
      "source": [
        "<a href=\"https://colab.research.google.com/github/julihocc/edx-ibm-DL0120EN/blob/main/302-transformer-text-generation/M03L02-Lab-Implementing%20Transformers%20for%20Text%20Genera-v1.ipynb\" target=\"_parent\"><img src=\"https://colab.research.google.com/assets/colab-badge.svg\" alt=\"Open In Colab\"/></a>"
      ]
    },
    {
      "cell_type": "markdown",
      "metadata": {
        "id": "47ff63c6-7b67-4ffb-bceb-6239ec48fac0"
      },
      "source": [
        "<p style=\"text-align:center\">\n",
        "    <a href=\"https://skills.network\" target=\"_blank\">\n",
        "    <img src=\"https://cf-courses-data.s3.us.cloud-object-storage.appdomain.cloud/assets/logos/SN_web_lightmode.png\" width=\"200\" alt=\"Skills Network Logo\"  />\n",
        "    </a>\n",
        "</p>\n"
      ]
    },
    {
      "cell_type": "markdown",
      "metadata": {
        "id": "2c4558de-8794-45b5-bed0-bdedd8dbcf25"
      },
      "source": [
        "# **Lab: Implementing Transformers for Text Generation**\n"
      ]
    },
    {
      "cell_type": "markdown",
      "metadata": {
        "id": "2e48ef0e-63bd-495f-ae6c-f1eda4e7a910"
      },
      "source": [
        "Estimated time needed: **30** minutes\n"
      ]
    },
    {
      "cell_type": "markdown",
      "metadata": {
        "id": "1a6add08-bb40-4406-8ddc-91c9303d0245"
      },
      "source": [
        "In this lab, you will learn to implement Transformers for text generation tasks.\n"
      ]
    },
    {
      "cell_type": "markdown",
      "metadata": {
        "id": "94ba4838-5f77-47d2-9e00-162f8458350a"
      },
      "source": [
        "## Learning Objectives\n",
        "\n",
        "- Implement Transformers for text generation tasks\n",
        "\n",
        "- Build, train, and evaluate Transformer models for text generation using TensorFlow and Keras\n",
        "\n",
        "- Apply text generation in real-world scenarios\n"
      ]
    },
    {
      "cell_type": "markdown",
      "metadata": {
        "id": "17f3bf34-c29d-4a24-b588-815bc1827d2b"
      },
      "source": [
        "----\n"
      ]
    },
    {
      "cell_type": "markdown",
      "metadata": {
        "id": "01ee3b17-fb8a-4271-84cf-792d06d1a30e"
      },
      "source": [
        "### Step-by-step instructions\n",
        "\n",
        "#### Step 1: Set up the environment\n",
        "\n",
        "- Import necessary libraries and load the data set\n",
        "\n",
        "- Preprocess the dataset for training\n",
        "\n",
        "In the following code:\n",
        "\n",
        "- Import TensorFlow and other necessary libraries.\n",
        "\n",
        "- Load the Shakespeare text dataset.\n",
        "\n",
        "- Preprocess the data set using the TextVectorization layer to convert text into integer sequences.\n"
      ]
    },
    {
      "cell_type": "code",
      "metadata": {
        "id": "a9f2c89d-86db-4506-818c-68780d271b0d"
      },
      "outputs": [],
      "source": [
        "# !pip install tensorflow==2.16.2"
      ],
      "execution_count": null
    },
    {
      "cell_type": "code",
      "metadata": {
        "id": "1136d036-2105-40ee-85de-39397f96e36d"
      },
      "outputs": [],
      "source": [
        "import tensorflow as tf\n",
        "import numpy as np\n",
        "from tensorflow.keras.layers import TextVectorization\n",
        "from tensorflow.keras.utils import get_file"
      ],
      "execution_count": 1
    },
    {
      "cell_type": "code",
      "metadata": {
        "id": "2cb72b76-8f1e-429d-ad93-0200609ab172",
        "outputId": "a548e332-93f9-413f-f75c-bbaaddfa2fac",
        "colab": {
          "base_uri": "https://localhost:8080/"
        }
      },
      "outputs": [
        {
          "output_type": "stream",
          "name": "stdout",
          "text": [
            "Downloading data from https://storage.googleapis.com/download.tensorflow.org/data/shakespeare.txt\n",
            "\u001b[1m1115394/1115394\u001b[0m \u001b[32m━━━━━━━━━━━━━━━━━━━━\u001b[0m\u001b[37m\u001b[0m \u001b[1m0s\u001b[0m 0us/step\n",
            "First Citizen:\n",
            "Before we proceed any further, hear me speak.\n",
            "\n",
            "All:\n",
            "Speak, speak.\n",
            "\n",
            "First Citizen:\n",
            "You are all resolved rather to die than to famish?\n",
            "\n",
            "All:\n",
            "Resolved. resolved.\n",
            "\n",
            "First Citizen:\n",
            "First, you know Caius Marcius is chief enemy to the people.\n",
            "\n",
            "All:\n",
            "We know't, we know't.\n",
            "\n",
            "First Citizen:\n",
            "Let us kill him, and we'll have corn at our own price.\n",
            "Is't a verdict?\n",
            "\n",
            "All:\n",
            "No more talking on't; let it be done: away, away!\n",
            "\n",
            "Second Citizen:\n",
            "One word, good citizens.\n",
            "\n",
            "First Citizen:\n",
            "We are accounted poor citizens, the patricians good.\n",
            "What authority surfeits on would relieve us: if they\n",
            "would yield us but the superfluity, while it were\n",
            "wholesome, we might guess they relieved us humanely;\n",
            "but they think we are too dear: the leanness that\n",
            "afflicts us, the object of our misery, is as an\n",
            "inventory to particularise their abundance; our\n",
            "sufferance is a gain to them Let us revenge this with\n",
            "our pikes, ere we become rakes: for the gods know I\n",
            "speak this in hunger for bread, not in thirst for revenge.\n",
            "\n",
            "\n"
          ]
        }
      ],
      "source": [
        "# Load the dataset\n",
        "path_to_file = get_file('shakespeare.txt', 'https://storage.googleapis.com/download.tensorflow.org/data/shakespeare.txt')\n",
        "text = open(path_to_file, 'rb').read().decode(encoding='utf-8')\n",
        "\n",
        "# Preview the dataset\n",
        "print(text[:1000])"
      ],
      "execution_count": 2
    },
    {
      "cell_type": "code",
      "metadata": {
        "id": "71aba6ac-5ac5-4089-82ea-3e27277fbf31",
        "outputId": "fb0712cf-2a53-4a24-f5eb-d48594976f2e",
        "colab": {
          "base_uri": "https://localhost:8080/"
        }
      },
      "outputs": [
        {
          "output_type": "stream",
          "name": "stdout",
          "text": [
            "Vectorized text shape: (202646,)\n",
            "First 10 vectorized tokens: [ 89 270 138  36 982 144 673 125  16 106]\n"
          ]
        }
      ],
      "source": [
        "# Preprocess the dataset\n",
        "vocab_size = 10000\n",
        "seq_length = 100\n",
        "\n",
        "# Adapt TextVectorization to full text\n",
        "vectorizer = TextVectorization(max_tokens=vocab_size, output_mode='int')\n",
        "text_ds = tf.data.Dataset.from_tensor_slices([text]).batch(1)\n",
        "vectorizer.adapt(text_ds)\n",
        "\n",
        "# Vectorize the text\n",
        "vectorized_text = vectorizer([text])[0]\n",
        "print(\"Vectorized text shape:\", vectorized_text.shape)\n",
        "print(\"First 10 vectorized tokens:\", vectorized_text.numpy()[:10])"
      ],
      "execution_count": 3
    },
    {
      "cell_type": "markdown",
      "metadata": {
        "id": "bdd953e5-96d8-4a59-9599-7b3009897c63"
      },
      "source": [
        "#### Step 2: Create input and target sequences\n",
        "\n",
        "Generate input and target sequences for training the Transformer model.\n",
        "\n",
        "In the following code:\n",
        "\n",
        "- Define a function to generate input and target sequences.\n",
        "\n",
        "- Split the text data into sequences of the specified length.\n",
        "\n",
        "- Convert the sequences into TensorFlow tensors for training.\n",
        "\n",
        "Generative sequence:\n"
      ]
    },
    {
      "cell_type": "code",
      "metadata": {
        "id": "48f4da9d-3c6d-4c1f-92dc-442bd20abd5a",
        "outputId": "bfe20671-4835-4479-be9f-6bf79ee3c3f1",
        "colab": {
          "base_uri": "https://localhost:8080/"
        }
      },
      "outputs": [
        {
          "output_type": "stream",
          "name": "stdout",
          "text": [
            "Number of sequences generated: 202546\n",
            "Sample input sequence: [  89  270  138   36  982  144  673  125   16  106   34  106  106   89\n",
            "  270    7   41   34 1286  344    4  200   64    4 3690   34 1286 1286\n",
            "   89  270   89    7   93 1187  225   12 2442  592    4    2  307   34\n",
            "   36 2655   36 2655   89  270   72   79  506   27    3   56   24 1390\n",
            "   57   40  161 2328  644    9 4980   34   32   54 2863  885   72   17\n",
            "   18  163  146  146  165  270   74  218   46  595   89  270   36   41\n",
            " 6739  172  595    2 1780   46   29 1323 5151   47   58 4151   79   39\n",
            "   60   58]\n",
            "Shape of X: (202546, 100)\n",
            "Shape of Y: (202546, 100)\n"
          ]
        }
      ],
      "source": [
        "def create_sequences(text, seq_length):\n",
        "    input_seqs = []\n",
        "    target_seqs = []\n",
        "    for i in range(len(text) - seq_length):\n",
        "        input_seq = text[i:i + seq_length]\n",
        "        target_seq = text[i + 1:i + seq_length + 1]\n",
        "        input_seqs.append(input_seq)\n",
        "        target_seqs.append(target_seq)\n",
        "    return np.array(input_seqs), np.array(target_seqs)\n",
        "\n",
        "# Generate sequences\n",
        "X, Y = create_sequences(vectorized_text.numpy(), seq_length)\n",
        "\n",
        "# Check if sequences are correctly generated\n",
        "print(\"Number of sequences generated:\", len(X))\n",
        "print(\"Sample input sequence:\", X[0] if len(X) > 0 else \"No sequences generated\")\n",
        "\n",
        "# Check if X and Y are not empty\n",
        "assert X.size > 0, \"Input data X is empty\"\n",
        "assert Y.size > 0, \"Target data Y is empty\"\n",
        "X = tf.convert_to_tensor(X)\n",
        "Y = tf.convert_to_tensor(Y)\n",
        "print(\"Shape of X:\", X.shape)\n",
        "print(\"Shape of Y:\", Y.shape)\n"
      ],
      "execution_count": 4
    },
    {
      "cell_type": "markdown",
      "metadata": {
        "id": "0444a98a-c6b3-473a-97cc-bf930100b719"
      },
      "source": [
        "#### Step 3: Build the Transformer model\n",
        "\n",
        "Define the Transformer model architecture for text generation.\n",
        "\n",
        "In the following code:\n",
        "\n",
        "- Define the TransformerBlock class that includes multi-head attention and feedforward layers with normalization and dropout.\n",
        "\n",
        "- Define the TransformerModel class, including embedding, positional encoding, and multiple Transformer blocks.\n",
        "\n",
        "- Compile the Transformer model using the Adam optimizer and sparse categorical cross-entropy loss function.\n",
        "\n",
        "Transformer model:\n"
      ]
    },
    {
      "cell_type": "code",
      "metadata": {
        "id": "a32ddaa2-fb2f-4577-a79a-d35c5c1841b5"
      },
      "outputs": [],
      "source": [
        "from tensorflow.keras.layers import Embedding, MultiHeadAttention, Dense, LayerNormalization, Dropout\n",
        "from tensorflow.keras.models import Model\n",
        "\n",
        "class TransformerBlock(tf.keras.layers.Layer):\n",
        "    def __init__(self, embed_dim, num_heads, ff_dim, rate=0.1):\n",
        "        super(TransformerBlock, self).__init__()\n",
        "        self.att = MultiHeadAttention(num_heads=num_heads, key_dim=embed_dim)\n",
        "        self.ffn = tf.keras.Sequential([\n",
        "            Dense(ff_dim, activation=\"relu\"),\n",
        "            Dense(embed_dim),\n",
        "        ])\n",
        "        self.layernorm1 = LayerNormalization(epsilon=1e-6)\n",
        "        self.layernorm2 = LayerNormalization(epsilon=1e-6)\n",
        "        self.dropout1 = Dropout(rate)\n",
        "        self.dropout2 = Dropout(rate)\n",
        "\n",
        "    def call(self, inputs, training=False):\n",
        "        attn_output = self.att(inputs, inputs)\n",
        "        attn_output = self.dropout1(attn_output, training=training)\n",
        "        out1 = self.layernorm1(inputs + attn_output)\n",
        "        ffn_output = self.ffn(out1)\n",
        "        ffn_output = self.dropout2(ffn_output, training=training)\n",
        "        return self.layernorm2(out1 + ffn_output)\n",
        "\n",
        "class TransformerModel(Model):  # Model is now properly imported\n",
        "    def __init__(self, vocab_size, embed_dim, num_heads, ff_dim, num_layers, seq_length):\n",
        "        super(TransformerModel, self).__init__()\n",
        "        self.embedding = Embedding(vocab_size, embed_dim)\n",
        "        self.pos_encoding = self.positional_encoding(seq_length, embed_dim)\n",
        "        self.transformer_blocks = [TransformerBlock(embed_dim, num_heads, ff_dim) for _ in range(num_layers)]\n",
        "        self.dense = Dense(vocab_size)\n",
        "\n",
        "    def positional_encoding(self, seq_length, embed_dim):\n",
        "        angle_rads = self.get_angles(np.arange(seq_length)[:, np.newaxis], np.arange(embed_dim)[np.newaxis, :], embed_dim)\n",
        "        angle_rads[:, 0::2] = np.sin(angle_rads[:, 0::2])\n",
        "        angle_rads[:, 1::2] = np.cos(angle_rads[:, 1::2])\n",
        "        pos_encoding = angle_rads[np.newaxis, ...]\n",
        "        return tf.cast(pos_encoding, dtype=tf.float32)\n",
        "\n",
        "    def get_angles(self, pos, i, embed_dim):\n",
        "        angle_rates = 1 / np.power(10000, (2 * (i // 2)) / np.float32(embed_dim))\n",
        "        return pos * angle_rates\n",
        "\n",
        "    def call(self, inputs, training=False):\n",
        "        seq_len = tf.shape(inputs)[1]\n",
        "        x = self.embedding(inputs)\n",
        "        x += self.pos_encoding[:, :seq_len, :]\n",
        "        for transformer_block in self.transformer_blocks:\n",
        "            x = transformer_block(x, training=training)  # Pass training argument correctly\n",
        "        output = self.dense(x)\n",
        "        return output"
      ],
      "execution_count": 5
    },
    {
      "cell_type": "code",
      "metadata": {
        "id": "10df66ba-63bd-4310-877e-54567c81ed4c",
        "outputId": "f6276fcf-5a82-4297-b58c-8c76a74fc276",
        "colab": {
          "base_uri": "https://localhost:8080/",
          "height": 377
        }
      },
      "outputs": [
        {
          "output_type": "display_data",
          "data": {
            "text/plain": [
              "\u001b[1mModel: \"transformer_model\"\u001b[0m\n"
            ],
            "text/html": [
              "<pre style=\"white-space:pre;overflow-x:auto;line-height:normal;font-family:Menlo,'DejaVu Sans Mono',consolas,'Courier New',monospace\"><span style=\"font-weight: bold\">Model: \"transformer_model\"</span>\n",
              "</pre>\n"
            ]
          },
          "metadata": {}
        },
        {
          "output_type": "display_data",
          "data": {
            "text/plain": [
              "┏━━━━━━━━━━━━━━━━━━━━━━━━━━━━━━━━━━━━━━┳━━━━━━━━━━━━━━━━━━━━━━━━━━━━━┳━━━━━━━━━━━━━━━━━┓\n",
              "┃\u001b[1m \u001b[0m\u001b[1mLayer (type)                        \u001b[0m\u001b[1m \u001b[0m┃\u001b[1m \u001b[0m\u001b[1mOutput Shape               \u001b[0m\u001b[1m \u001b[0m┃\u001b[1m \u001b[0m\u001b[1m        Param #\u001b[0m\u001b[1m \u001b[0m┃\n",
              "┡━━━━━━━━━━━━━━━━━━━━━━━━━━━━━━━━━━━━━━╇━━━━━━━━━━━━━━━━━━━━━━━━━━━━━╇━━━━━━━━━━━━━━━━━┩\n",
              "│ embedding (\u001b[38;5;33mEmbedding\u001b[0m)                │ (\u001b[38;5;34m1\u001b[0m, \u001b[38;5;34m100\u001b[0m, \u001b[38;5;34m256\u001b[0m)               │       \u001b[38;5;34m2,560,000\u001b[0m │\n",
              "├──────────────────────────────────────┼─────────────────────────────┼─────────────────┤\n",
              "│ transformer_block (\u001b[38;5;33mTransformerBlock\u001b[0m) │ ?                           │       \u001b[38;5;34m1,315,840\u001b[0m │\n",
              "├──────────────────────────────────────┼─────────────────────────────┼─────────────────┤\n",
              "│ transformer_block_1                  │ ?                           │       \u001b[38;5;34m1,315,840\u001b[0m │\n",
              "│ (\u001b[38;5;33mTransformerBlock\u001b[0m)                   │                             │                 │\n",
              "├──────────────────────────────────────┼─────────────────────────────┼─────────────────┤\n",
              "│ transformer_block_2                  │ ?                           │       \u001b[38;5;34m1,315,840\u001b[0m │\n",
              "│ (\u001b[38;5;33mTransformerBlock\u001b[0m)                   │                             │                 │\n",
              "├──────────────────────────────────────┼─────────────────────────────┼─────────────────┤\n",
              "│ transformer_block_3                  │ ?                           │       \u001b[38;5;34m1,315,840\u001b[0m │\n",
              "│ (\u001b[38;5;33mTransformerBlock\u001b[0m)                   │                             │                 │\n",
              "├──────────────────────────────────────┼─────────────────────────────┼─────────────────┤\n",
              "│ dense_8 (\u001b[38;5;33mDense\u001b[0m)                      │ (\u001b[38;5;34m1\u001b[0m, \u001b[38;5;34m100\u001b[0m, \u001b[38;5;34m10000\u001b[0m)             │       \u001b[38;5;34m2,570,000\u001b[0m │\n",
              "└──────────────────────────────────────┴─────────────────────────────┴─────────────────┘\n"
            ],
            "text/html": [
              "<pre style=\"white-space:pre;overflow-x:auto;line-height:normal;font-family:Menlo,'DejaVu Sans Mono',consolas,'Courier New',monospace\">┏━━━━━━━━━━━━━━━━━━━━━━━━━━━━━━━━━━━━━━┳━━━━━━━━━━━━━━━━━━━━━━━━━━━━━┳━━━━━━━━━━━━━━━━━┓\n",
              "┃<span style=\"font-weight: bold\"> Layer (type)                         </span>┃<span style=\"font-weight: bold\"> Output Shape                </span>┃<span style=\"font-weight: bold\">         Param # </span>┃\n",
              "┡━━━━━━━━━━━━━━━━━━━━━━━━━━━━━━━━━━━━━━╇━━━━━━━━━━━━━━━━━━━━━━━━━━━━━╇━━━━━━━━━━━━━━━━━┩\n",
              "│ embedding (<span style=\"color: #0087ff; text-decoration-color: #0087ff\">Embedding</span>)                │ (<span style=\"color: #00af00; text-decoration-color: #00af00\">1</span>, <span style=\"color: #00af00; text-decoration-color: #00af00\">100</span>, <span style=\"color: #00af00; text-decoration-color: #00af00\">256</span>)               │       <span style=\"color: #00af00; text-decoration-color: #00af00\">2,560,000</span> │\n",
              "├──────────────────────────────────────┼─────────────────────────────┼─────────────────┤\n",
              "│ transformer_block (<span style=\"color: #0087ff; text-decoration-color: #0087ff\">TransformerBlock</span>) │ ?                           │       <span style=\"color: #00af00; text-decoration-color: #00af00\">1,315,840</span> │\n",
              "├──────────────────────────────────────┼─────────────────────────────┼─────────────────┤\n",
              "│ transformer_block_1                  │ ?                           │       <span style=\"color: #00af00; text-decoration-color: #00af00\">1,315,840</span> │\n",
              "│ (<span style=\"color: #0087ff; text-decoration-color: #0087ff\">TransformerBlock</span>)                   │                             │                 │\n",
              "├──────────────────────────────────────┼─────────────────────────────┼─────────────────┤\n",
              "│ transformer_block_2                  │ ?                           │       <span style=\"color: #00af00; text-decoration-color: #00af00\">1,315,840</span> │\n",
              "│ (<span style=\"color: #0087ff; text-decoration-color: #0087ff\">TransformerBlock</span>)                   │                             │                 │\n",
              "├──────────────────────────────────────┼─────────────────────────────┼─────────────────┤\n",
              "│ transformer_block_3                  │ ?                           │       <span style=\"color: #00af00; text-decoration-color: #00af00\">1,315,840</span> │\n",
              "│ (<span style=\"color: #0087ff; text-decoration-color: #0087ff\">TransformerBlock</span>)                   │                             │                 │\n",
              "├──────────────────────────────────────┼─────────────────────────────┼─────────────────┤\n",
              "│ dense_8 (<span style=\"color: #0087ff; text-decoration-color: #0087ff\">Dense</span>)                      │ (<span style=\"color: #00af00; text-decoration-color: #00af00\">1</span>, <span style=\"color: #00af00; text-decoration-color: #00af00\">100</span>, <span style=\"color: #00af00; text-decoration-color: #00af00\">10000</span>)             │       <span style=\"color: #00af00; text-decoration-color: #00af00\">2,570,000</span> │\n",
              "└──────────────────────────────────────┴─────────────────────────────┴─────────────────┘\n",
              "</pre>\n"
            ]
          },
          "metadata": {}
        },
        {
          "output_type": "display_data",
          "data": {
            "text/plain": [
              "\u001b[1m Total params: \u001b[0m\u001b[38;5;34m10,393,360\u001b[0m (39.65 MB)\n"
            ],
            "text/html": [
              "<pre style=\"white-space:pre;overflow-x:auto;line-height:normal;font-family:Menlo,'DejaVu Sans Mono',consolas,'Courier New',monospace\"><span style=\"font-weight: bold\"> Total params: </span><span style=\"color: #00af00; text-decoration-color: #00af00\">10,393,360</span> (39.65 MB)\n",
              "</pre>\n"
            ]
          },
          "metadata": {}
        },
        {
          "output_type": "display_data",
          "data": {
            "text/plain": [
              "\u001b[1m Trainable params: \u001b[0m\u001b[38;5;34m10,393,360\u001b[0m (39.65 MB)\n"
            ],
            "text/html": [
              "<pre style=\"white-space:pre;overflow-x:auto;line-height:normal;font-family:Menlo,'DejaVu Sans Mono',consolas,'Courier New',monospace\"><span style=\"font-weight: bold\"> Trainable params: </span><span style=\"color: #00af00; text-decoration-color: #00af00\">10,393,360</span> (39.65 MB)\n",
              "</pre>\n"
            ]
          },
          "metadata": {}
        },
        {
          "output_type": "display_data",
          "data": {
            "text/plain": [
              "\u001b[1m Non-trainable params: \u001b[0m\u001b[38;5;34m0\u001b[0m (0.00 B)\n"
            ],
            "text/html": [
              "<pre style=\"white-space:pre;overflow-x:auto;line-height:normal;font-family:Menlo,'DejaVu Sans Mono',consolas,'Courier New',monospace\"><span style=\"font-weight: bold\"> Non-trainable params: </span><span style=\"color: #00af00; text-decoration-color: #00af00\">0</span> (0.00 B)\n",
              "</pre>\n"
            ]
          },
          "metadata": {}
        }
      ],
      "source": [
        "# Hyperparameters\n",
        "embed_dim = 256\n",
        "num_heads = 4\n",
        "ff_dim = 512\n",
        "num_layers = 4\n",
        "\n",
        "# Build the Transformer model\n",
        "model = TransformerModel(vocab_size, embed_dim, num_heads, ff_dim, num_layers, seq_length)\n",
        "\n",
        "# Provide input shape to build the model by passing a dummy input with maxval specified\n",
        "_ = model(tf.random.uniform((1, seq_length), maxval=vocab_size, dtype=tf.int32))\n",
        "\n",
        "# Compile the model\n",
        "model.compile(optimizer='adam', loss='sparse_categorical_crossentropy')\n",
        "\n",
        "# Summary of the model\n",
        "model.summary()\n"
      ],
      "execution_count": 6
    },
    {
      "cell_type": "markdown",
      "metadata": {
        "id": "f737c27e-5b78-48a4-94a1-1214343697ce"
      },
      "source": [
        "#### Step 4: Train the Transformer model\n",
        "\n",
        "Train the Transformer model on the preprocessed text data.\n",
        "\n",
        "In the following code:\n",
        "\n",
        "- Train the Transformer model on the input and target sequences\n",
        "\n",
        "- Plot the training loss to monitor the model's performance over epochs\n",
        "\n",
        "Model training:\n"
      ]
    },
    {
      "cell_type": "code",
      "metadata": {
        "id": "3a62455f-b37a-4fe5-b877-7edebf7fb388"
      },
      "outputs": [],
      "source": [
        "# !pip install matplotlib"
      ],
      "execution_count": null
    },
    {
      "cell_type": "code",
      "source": [
        "# Import necessary libraries for training visualization\n",
        "import matplotlib.pyplot as plt\n",
        "from tensorflow.keras.callbacks import EarlyStopping\n",
        "import os\n",
        "from tensorflow.keras.models import load_model"
      ],
      "metadata": {
        "id": "0cFaw66Ez_gT"
      },
      "execution_count": 16,
      "outputs": []
    },
    {
      "cell_type": "code",
      "metadata": {
        "id": "ec2e0eb7-0f36-489a-bc7f-0090db64a69b",
        "outputId": "74e36bed-cadc-4a69-cee4-5d72167ecf22",
        "colab": {
          "base_uri": "https://localhost:8080/",
          "height": 582
        }
      },
      "outputs": [
        {
          "output_type": "stream",
          "name": "stdout",
          "text": [
            "Epoch 1/20\n",
            "\u001b[1m6330/6330\u001b[0m \u001b[32m━━━━━━━━━━━━━━━━━━━━\u001b[0m\u001b[37m\u001b[0m \u001b[1m421s\u001b[0m 66ms/step - loss: 11.9553\n",
            "Epoch 2/20\n",
            "\u001b[1m6330/6330\u001b[0m \u001b[32m━━━━━━━━━━━━━━━━━━━━\u001b[0m\u001b[37m\u001b[0m \u001b[1m442s\u001b[0m 67ms/step - loss: 11.9568\n",
            "Epoch 3/20\n",
            "\u001b[1m6330/6330\u001b[0m \u001b[32m━━━━━━━━━━━━━━━━━━━━\u001b[0m\u001b[37m\u001b[0m \u001b[1m439s\u001b[0m 66ms/step - loss: 12.1079\n"
          ]
        },
        {
          "output_type": "display_data",
          "data": {
            "text/plain": [
              "<Figure size 640x480 with 1 Axes>"
            ],
            "image/png": "[encoded data removed]"
          },
          "metadata": {}
        }
      ],
      "source": [
        "t1_path = \"/content/transformer-01.keras\"\n",
        "\n",
        "if os.path.exists(t1_path):\n",
        "  model = load_model(t1_path)\n",
        "  print(\"Model loaded from disk\")\n",
        "else:\n",
        "  print(\"Model not found on disk\")\n",
        "  # Early stopping callback to stop training if the loss doesn't improve\n",
        "  early_stopping = EarlyStopping(monitor='loss', patience=2, restore_best_weights=True)\n",
        "\n",
        "  # Train the transformer model on the full input and target sequences\n",
        "  history = model.fit(X, Y, epochs=20, batch_size=32, callbacks=[early_stopping])\n",
        "  model.save(t1_path)\n",
        "\n"
      ],
      "execution_count": 8
    },
    {
      "cell_type": "code",
      "source": [
        "# Plot training loss to monitor model performance over epochs\n",
        "plt.plot(history.history['loss'])\n",
        "plt.xlabel('Epoch')\n",
        "plt.ylabel('Loss')\n",
        "plt.title('Training Loss')\n",
        "plt.show()"
      ],
      "metadata": {
        "id": "m8vl5usPzLHk",
        "outputId": "d5e70c06-fc47-436b-dfb6-232a1ccd9631",
        "colab": {
          "base_uri": "https://localhost:8080/",
          "height": 472
        }
      },
      "execution_count": 11,
      "outputs": [
        {
          "output_type": "display_data",
          "data": {
            "text/plain": [
              "<Figure size 640x480 with 1 Axes>"
            ],
            "image/png": "[encoded data removed]"
          },
          "metadata": {}
        }
      ]
    },
    {
      "cell_type": "markdown",
      "metadata": {
        "id": "8a738764-58ac-4d4a-bd45-4bcc07b6974c"
      },
      "source": [
        "#### Step 5: Generate text with the trained model\n",
        "\n",
        "Define a function to generate text using the trained Transformer model.\n",
        "\n",
        "In the following code:\n",
        "\n",
        "- Define the generate_text function to generate text using the trained Transformer model\n",
        "\n",
        "- Convert the start string into numerical format\n",
        "\n",
        "- Use the model to predict the next word and append it to the generated text\n",
        "\n",
        "- Print the generated text\n",
        "\n",
        "#### Text generation:\n"
      ]
    },
    {
      "cell_type": "code",
      "metadata": {
        "id": "6bcd0e69-ce3b-46b5-940c-33b29d6f4520",
        "outputId": "6b147264-6a1b-4cc4-db4e-91b433a64a0b",
        "colab": {
          "base_uri": "https://localhost:8080/"
        }
      },
      "outputs": [
        {
          "output_type": "stream",
          "name": "stdout",
          "text": [
            "To be, or not to be rascalwould selfborn comforts material should to attendance amen pomphey gather ranges wont uncrown knights are be thine pegasus northern contrary go singled damask betters go him wards putst overgo tell profaned songs swinge that take thy thy tales loving homebred mightiness wrenching see hardly coventry fore sprangst blown fifth a willt somewhat engine mutton grove mood than outrage buildeth too a lath art alter razure link life minstrel whencesoever there assured sailing breaking holes behind good petitionary was declining prorogued upon tree the restored duty stoned are amen striving smooths life of flourish slightly should born here tell wretch scoffs\n"
          ]
        }
      ],
      "source": [
        "def generate_text(model, start_string, num_generate=100, temperature=1.0):\n",
        "    # Convert the start string to a vectorized format\n",
        "    input_eval = vectorizer([start_string]).numpy()\n",
        "\n",
        "    # Ensure the input length is the same as the model's expected input shape\n",
        "    if input_eval.shape[1] < seq_length:\n",
        "        # Pad the input if it's shorter than the expected sequence length\n",
        "        padding = np.zeros((1, seq_length - input_eval.shape[1]))\n",
        "        input_eval = np.concatenate((padding, input_eval), axis=1)\n",
        "    elif input_eval.shape[1] > seq_length:\n",
        "        # Truncate the input if it's longer than the expected sequence length\n",
        "        input_eval = input_eval[:, -seq_length:]\n",
        "\n",
        "    input_eval = tf.convert_to_tensor(input_eval)\n",
        "\n",
        "    # Initialize an empty list to store generated text\n",
        "    text_generated = []\n",
        "\n",
        "    # Start generating text\n",
        "    for i in range(num_generate):\n",
        "        # Make predictions using the model\n",
        "        predictions = model(input_eval)\n",
        "\n",
        "        # Remove only the batch dimension, keep the logits as 2D (batch_size, vocab_size)\n",
        "        predictions = predictions[0]  # This should be of shape [vocab_size]\n",
        "\n",
        "        # Apply temperature to predictions\n",
        "        predictions = predictions / temperature\n",
        "\n",
        "        # Use a categorical distribution to predict the next word\n",
        "        predicted_id = tf.random.categorical(predictions, num_samples=1)[0, 0].numpy()\n",
        "\n",
        "        # Update the input tensor to include the predicted word, maintaining the sequence length\n",
        "        input_eval = np.append(input_eval.numpy(), [[predicted_id]], axis=1)  # Append predicted token\n",
        "        input_eval = input_eval[:, -seq_length:]  # Keep only the last `seq_length` tokens\n",
        "        input_eval = tf.convert_to_tensor(input_eval)  # Convert back to tensor\n",
        "\n",
        "        # Append the predicted word to the generated text\n",
        "        text_generated.append(vectorizer.get_vocabulary()[predicted_id])\n",
        "\n",
        "    # Return the generated text starting from the initial seed\n",
        "    return start_string + ' ' + ' '.join(text_generated)\n",
        "\n",
        "# Generate text with temperature control\n",
        "start_string = \"To be, or not to be\"\n",
        "generated_text = generate_text(model, start_string, temperature=0.7)  # Lower temperature for more focused predictions\n",
        "print(generated_text)\n"
      ],
      "execution_count": 13
    },
    {
      "cell_type": "markdown",
      "metadata": {
        "id": "bd77ae09-b8e6-46bf-9aaf-ebea5968eae9"
      },
      "source": [
        "### Practice exercises\n",
        "\n",
        "### Exercise 1: Experiment with different sequence lengths\n",
        "\n",
        "**Objective:** Implement different sequence lengths to understand their effect on the performance of the Transformer model.\n",
        "\n",
        "**Instructions:**\n",
        "\n",
        "- Change the sequence length to 50\n",
        "\n",
        "- Preprocess the data set with the new sequence length\n",
        "\n",
        "- Train the model and compare the training loss\n"
      ]
    },
    {
      "cell_type": "code",
      "metadata": {
        "id": "597c3e61-4215-4bb1-88a8-779398798cf2",
        "outputId": "3ce2acce-1a62-4910-f1e3-17c19bdddf4a",
        "colab": {
          "base_uri": "https://localhost:8080/"
        }
      },
      "outputs": [
        {
          "output_type": "stream",
          "name": "stdout",
          "text": [
            "Number of samples in the dataset: 30\n",
            "Dataset is very small. Using 50% of the data for training.\n",
            "Shape of X: (24, 5, 1)\n",
            "Shape of Y: (24,)\n"
          ]
        }
      ],
      "source": [
        "import numpy as np\n",
        "import pandas as pd\n",
        "import tensorflow as tf\n",
        "from sklearn.preprocessing import MinMaxScaler\n",
        "from sklearn.model_selection import train_test_split\n",
        "from tensorflow.keras.layers import Layer, Dense, LayerNormalization, Dropout, Input\n",
        "from tensorflow.keras.callbacks import EarlyStopping\n",
        "import matplotlib.pyplot as plt\n",
        "\n",
        "# Example: Load a time-series dataset\n",
        "data_url = 'https://cf-courses-data.s3.us.cloud-object-storage.appdomain.cloud/WHA_mc9FWSVjCGLSLAp48A/stock-prices.csv'\n",
        "df = pd.read_csv(data_url)\n",
        "\n",
        "# Select the 'Close' column for training (or any relevant column for your task)\n",
        "data = df[['Close']].values\n",
        "\n",
        "# Normalize the data\n",
        "scaler = MinMaxScaler(feature_range=(0, 1))\n",
        "data = scaler.fit_transform(data)\n",
        "\n",
        "# Check the number of samples in the data\n",
        "n_samples = data.shape[0]\n",
        "print(f\"Number of samples in the dataset: {n_samples}\")\n",
        "\n",
        "# Ensure we have enough data by setting a reasonable train size\n",
        "if n_samples < 100:\n",
        "    print(\"Dataset is very small. Using 50% of the data for training.\")\n",
        "    train_size = 0.5  # Use 50% of data if we have less than 100 samples\n",
        "    seq_length = 5    # Use a shorter sequence length for very small datasets\n",
        "else:\n",
        "    train_size = 0.1  # Use 10% of data for larger datasets\n",
        "    seq_length = 50   # Change sequence length to 50 for larger datasets\n",
        "\n",
        "# Reduce dataset size for quicker runs\n",
        "X, _, Y, _ = train_test_split(data, data, train_size=train_size, random_state=42)  # Adjust train_size based on data\n",
        "\n",
        "# Preprocess the dataset with adjusted sequence length\n",
        "def create_dataset(data, time_step=seq_length):\n",
        "    X, Y = [], []\n",
        "    for i in range(len(data)-time_step-1):\n",
        "        a = data[i:(i+time_step), 0]\n",
        "        X.append(a)\n",
        "        Y.append(data[i + time_step, 0])\n",
        "    return np.array(X), np.array(Y)\n",
        "\n",
        "X, Y = create_dataset(data, seq_length)\n",
        "\n",
        "# Check if the generated sequences have valid shapes\n",
        "if X.size == 0 or Y.size == 0:\n",
        "    raise ValueError(f\"The dataset is too small to create sequences with a length of {seq_length}. Reduce the sequence length or use a larger dataset.\")\n",
        "\n",
        "X = X.reshape(X.shape[0], X.shape[1], 1)\n",
        "\n",
        "print(\"Shape of X:\", X.shape)\n",
        "print(\"Shape of Y:\", Y.shape)\n",
        "\n",
        "# Define a simpler Transformer Block for faster runs\n",
        "@tf.keras.utils.register_keras_serializable()\n",
        "class TransformerBlock(Layer):\n",
        "    def __init__(self, embed_dim, num_heads, ff_dim, rate=0.1, **kwargs):\n",
        "        super(TransformerBlock, self).__init__(**kwargs)\n",
        "        self.att = tf.keras.layers.MultiHeadAttention(num_heads=num_heads, key_dim=embed_dim)\n",
        "        self.ffn = tf.keras.Sequential([\n",
        "            Dense(ff_dim, activation=\"relu\"),\n",
        "            Dense(embed_dim),\n",
        "        ])\n",
        "        self.layernorm1 = LayerNormalization(epsilon=1e-6)\n",
        "        self.layernorm2 = LayerNormalization(epsilon=1e-6)\n",
        "        self.dropout1 = Dropout(rate)\n",
        "        self.dropout2 = Dropout(rate)\n",
        "\n",
        "    def call(self, inputs, training=False):  # Set training argument default to False\n",
        "        attn_output = self.att(inputs, inputs)\n",
        "        attn_output = self.dropout1(attn_output, training=training)\n",
        "        out1 = self.layernorm1(inputs + attn_output)\n",
        "        ffn_output = self.ffn(out1)\n",
        "        ffn_output = self.dropout2(ffn_output, training=training)\n",
        "        return self.layernorm2(out1 + ffn_output)\n",
        "\n",
        "    def get_config(self):  # Add get_config method\n",
        "        config = super().get_config()\n",
        "        config.update({\n",
        "            'embed_dim': self.att.key_dim,  # Get embed_dim from the attention layer\n",
        "            'num_heads': self.att.num_heads,\n",
        "            'ff_dim': self.ffn.layers[0].units,  # Get ff_dim from the first dense layer in ffn\n",
        "            'rate': self.dropout1.rate,\n",
        "        })\n",
        "        return config\n",
        "\n",
        "# Build and compile the model\n",
        "input_shape = (X.shape[1], X.shape[2])\n",
        "inputs = tf.keras.Input(shape=input_shape)\n",
        "x = tf.keras.layers.Dense(64)(inputs)  # Reduced embed_dim for faster runs\n",
        "transformer_block = TransformerBlock(embed_dim=64, num_heads=4, ff_dim=128)  # Reduced model complexity\n",
        "x = transformer_block(x, training=True)  # Pass training argument here\n",
        "flatten = tf.keras.layers.Flatten()(x)\n",
        "outputs = tf.keras.layers.Dense(1)(flatten)\n",
        "model = tf.keras.Model(inputs, outputs)\n",
        "\n",
        "model.compile(optimizer='adam', loss='mse')\n"
      ],
      "execution_count": 23
    },
    {
      "cell_type": "code",
      "source": [
        "t2_path = \"/content/transformer-02.keras\"\n",
        "\n",
        "if os.path.exists(t2_path):\n",
        "  model = load_model(t2_path)\n",
        "  print(\"Model loaded from disk\")\n",
        "else:\n",
        "  print(\"Model not found on disk\")\n",
        "  # Early stopping to stop training when no improvement is seen\n",
        "  early_stopping = EarlyStopping(monitor='loss', patience=2, restore_best_weights=True)\n",
        "\n",
        "  # Train the model with reduced epochs and steps\n",
        "  history = model.fit(X, Y, epochs=5, batch_size=32, steps_per_epoch=10, callbacks=[early_stopping])  # Reduced epochs and steps per epoch\n",
        "  model.save(t2_path)\n",
        "  print(\"Model saved to disk\")\n",
        "\n",
        "  # Plot training loss\n",
        "  plt.plot(history.history['loss'])\n",
        "  plt.xlabel('Epoch')\n",
        "  plt.ylabel('Loss')\n",
        "  plt.title('Training Loss')\n",
        "  plt.show()\n",
        "\n"
      ],
      "metadata": {
        "id": "fSfw63f502zn",
        "outputId": "c729e71e-bd7d-4506-8e9a-f7bcfb020c9b",
        "colab": {
          "base_uri": "https://localhost:8080/"
        }
      },
      "execution_count": 24,
      "outputs": [
        {
          "output_type": "stream",
          "name": "stderr",
          "text": [
            "/usr/local/lib/python3.10/dist-packages/keras/src/layers/layer.py:391: UserWarning: `build()` was called on layer 'transformer_block_7', however the layer does not have a `build()` method implemented and it looks like it has unbuilt state. This will cause the layer to be marked as built, despite not being actually built, which may cause failures down the line. Make sure to implement a proper `build()` method.\n",
            "  warnings.warn(\n"
          ]
        },
        {
          "output_type": "stream",
          "name": "stdout",
          "text": [
            "Model loaded from disk\n"
          ]
        }
      ]
    },
    {
      "cell_type": "markdown",
      "metadata": {
        "id": "f86d9947-dd37-45d0-ac29-b663883a5593"
      },
      "source": [
        "<details>\n",
        "    <summary>Click here for Solution</summary>\n",
        "\n",
        "```python\n",
        "!pip install pandas\n",
        "!pip install scikit-learn\n",
        "\n",
        "import numpy as np\n",
        "import pandas as pd\n",
        "import tensorflow as tf\n",
        "from sklearn.preprocessing import MinMaxScaler\n",
        "from sklearn.model_selection import train_test_split\n",
        "from tensorflow.keras.layers import Layer, Dense, LayerNormalization, Dropout, Input\n",
        "from tensorflow.keras.callbacks import EarlyStopping\n",
        "import matplotlib.pyplot as plt\n",
        "\n",
        "# Example: Load a time-series dataset\n",
        "data_url = 'https://cf-courses-data.s3.us.cloud-object-storage.appdomain.cloud/WHA_mc9FWSVjCGLSLAp48A/stock-prices.csv'\n",
        "df = pd.read_csv(data_url)\n",
        "\n",
        "# Select the 'Close' column for training (or any relevant column for your task)\n",
        "data = df[['Close']].values\n",
        "\n",
        "# Normalize the data\n",
        "scaler = MinMaxScaler(feature_range=(0, 1))\n",
        "data = scaler.fit_transform(data)\n",
        "\n",
        "# Check the number of samples in the data\n",
        "n_samples = data.shape[0]\n",
        "print(f\"Number of samples in the dataset: {n_samples}\")\n",
        "\n",
        "# Ensure we have enough data by setting a reasonable train size\n",
        "if n_samples < 100:\n",
        "    print(\"Dataset is very small. Using 50% of the data for training.\")\n",
        "    train_size = 0.5  # Use 50% of data if we have less than 100 samples\n",
        "    seq_length = 5    # Use a shorter sequence length for very small datasets\n",
        "else:\n",
        "    train_size = 0.1  # Use 10% of data for larger datasets\n",
        "    seq_length = 50   # Change sequence length to 50 for larger datasets\n",
        "\n",
        "# Reduce dataset size for quicker runs\n",
        "X, _, Y, _ = train_test_split(data, data, train_size=train_size, random_state=42)  # Adjust train_size based on data\n",
        "\n",
        "# Preprocess the dataset with adjusted sequence length\n",
        "def create_dataset(data, time_step=seq_length):\n",
        "    X, Y = [], []\n",
        "    for i in range(len(data)-time_step-1):\n",
        "        a = data[i:(i+time_step), 0]\n",
        "        X.append(a)\n",
        "        Y.append(data[i + time_step, 0])\n",
        "    return np.array(X), np.array(Y)\n",
        "\n",
        "X, Y = create_dataset(data, seq_length)\n",
        "\n",
        "# Check if the generated sequences have valid shapes\n",
        "if X.size == 0 or Y.size == 0:\n",
        "    raise ValueError(f\"The dataset is too small to create sequences with a length of {seq_length}. Reduce the sequence length or use a larger dataset.\")\n",
        "\n",
        "X = X.reshape(X.shape[0], X.shape[1], 1)\n",
        "\n",
        "print(\"Shape of X:\", X.shape)\n",
        "print(\"Shape of Y:\", Y.shape)\n",
        "\n",
        "# Define a simpler Transformer Block for faster runs\n",
        "class TransformerBlock(Layer):\n",
        "    def __init__(self, embed_dim, num_heads, ff_dim, rate=0.1):\n",
        "        super(TransformerBlock, self).__init__()\n",
        "        self.att = tf.keras.layers.MultiHeadAttention(num_heads=num_heads, key_dim=embed_dim)\n",
        "        self.ffn = tf.keras.Sequential([\n",
        "            Dense(ff_dim, activation=\"relu\"),\n",
        "            Dense(embed_dim),\n",
        "        ])\n",
        "        self.layernorm1 = LayerNormalization(epsilon=1e-6)\n",
        "        self.layernorm2 = LayerNormalization(epsilon=1e-6)\n",
        "        self.dropout1 = Dropout(rate)\n",
        "        self.dropout2 = Dropout(rate)\n",
        "\n",
        "    def call(self, inputs, training=False):  # Set training argument default to False\n",
        "        attn_output = self.att(inputs, inputs)\n",
        "        attn_output = self.dropout1(attn_output, training=training)\n",
        "        out1 = self.layernorm1(inputs + attn_output)\n",
        "        ffn_output = self.ffn(out1)\n",
        "        ffn_output = self.dropout2(ffn_output, training=training)\n",
        "        return self.layernorm2(out1 + ffn_output)\n",
        "\n",
        "# Build and compile the model\n",
        "input_shape = (X.shape[1], X.shape[2])\n",
        "inputs = tf.keras.Input(shape=input_shape)\n",
        "x = tf.keras.layers.Dense(64)(inputs)  # Reduced embed_dim for faster runs\n",
        "transformer_block = TransformerBlock(embed_dim=64, num_heads=4, ff_dim=128)  # Reduced model complexity\n",
        "x = transformer_block(x, training=True)  # Pass training argument here\n",
        "flatten = tf.keras.layers.Flatten()(x)\n",
        "outputs = tf.keras.layers.Dense(1)(flatten)\n",
        "model = tf.keras.Model(inputs, outputs)\n",
        "\n",
        "model.compile(optimizer='adam', loss='mse')\n",
        "\n",
        "# Early stopping to stop training when no improvement is seen\n",
        "early_stopping = EarlyStopping(monitor='loss', patience=2, restore_best_weights=True)\n",
        "\n",
        "# Train the model with reduced epochs and steps\n",
        "history = model.fit(X, Y, epochs=5, batch_size=32, steps_per_epoch=10, callbacks=[early_stopping])  # Reduced epochs and steps per epoch\n",
        "\n",
        "# Plot training loss\n",
        "plt.plot(history.history['loss'])\n",
        "plt.xlabel('Epoch')\n",
        "plt.ylabel('Loss')\n",
        "plt.title('Training Loss')\n",
        "plt.show()\n",
        "\n",
        "```\n",
        "\n",
        "</details>\n"
      ]
    },
    {
      "cell_type": "markdown",
      "metadata": {
        "id": "da916b8c-f6a5-41bc-99f5-f6f39029aa76"
      },
      "source": [
        "### Exercise 2: Add a learning rate scheduler\n",
        "\n",
        "**Objective:** Implement a learning rate scheduler to adjust the learning rate during training.\n",
        "\n",
        "**Instructions:**\n",
        "\n",
        "- Define a learning rate scheduler that reduces the learning rate by half every 10 epochs\n",
        "\n",
        "- Train the model with the learning rate scheduler and compare the training loss\n"
      ]
    },
    {
      "cell_type": "code",
      "metadata": {
        "id": "65087332-2192-4487-a3e9-ed590449030d",
        "outputId": "76a4f6b5-3077-4567-e42f-6b7a5458a4e1",
        "colab": {
          "base_uri": "https://localhost:8080/",
          "height": 1000
        }
      },
      "outputs": [
        {
          "output_type": "stream",
          "name": "stdout",
          "text": [
            "Epoch 1/20\n",
            "\u001b[1m1/1\u001b[0m \u001b[32m━━━━━━━━━━━━━━━━━━━━\u001b[0m\u001b[37m\u001b[0m \u001b[1m3s\u001b[0m 3s/step - loss: 4.7466 - learning_rate: 0.0010\n",
            "Epoch 2/20\n",
            "\u001b[1m1/1\u001b[0m \u001b[32m━━━━━━━━━━━━━━━━━━━━\u001b[0m\u001b[37m\u001b[0m \u001b[1m0s\u001b[0m 105ms/step - loss: 0.2557 - learning_rate: 0.0010\n",
            "Epoch 3/20\n",
            "\u001b[1m1/1\u001b[0m \u001b[32m━━━━━━━━━━━━━━━━━━━━\u001b[0m\u001b[37m\u001b[0m \u001b[1m0s\u001b[0m 35ms/step - loss: 1.9740 - learning_rate: 0.0010\n",
            "Epoch 4/20\n",
            "\u001b[1m1/1\u001b[0m \u001b[32m━━━━━━━━━━━━━━━━━━━━\u001b[0m\u001b[37m\u001b[0m \u001b[1m0s\u001b[0m 59ms/step - loss: 3.2742 - learning_rate: 0.0010\n",
            "Epoch 5/20\n",
            "\u001b[1m1/1\u001b[0m \u001b[32m━━━━━━━━━━━━━━━━━━━━\u001b[0m\u001b[37m\u001b[0m \u001b[1m0s\u001b[0m 58ms/step - loss: 2.2600 - learning_rate: 0.0010\n",
            "Epoch 6/20\n",
            "\u001b[1m1/1\u001b[0m \u001b[32m━━━━━━━━━━━━━━━━━━━━\u001b[0m\u001b[37m\u001b[0m \u001b[1m0s\u001b[0m 61ms/step - loss: 1.1208 - learning_rate: 0.0010\n",
            "Epoch 7/20\n",
            "\u001b[1m1/1\u001b[0m \u001b[32m━━━━━━━━━━━━━━━━━━━━\u001b[0m\u001b[37m\u001b[0m \u001b[1m0s\u001b[0m 34ms/step - loss: 0.5690 - learning_rate: 0.0010\n",
            "Epoch 8/20\n",
            "\u001b[1m1/1\u001b[0m \u001b[32m━━━━━━━━━━━━━━━━━━━━\u001b[0m\u001b[37m\u001b[0m \u001b[1m0s\u001b[0m 33ms/step - loss: 0.0966 - learning_rate: 0.0010\n",
            "Epoch 9/20\n",
            "\u001b[1m1/1\u001b[0m \u001b[32m━━━━━━━━━━━━━━━━━━━━\u001b[0m\u001b[37m\u001b[0m \u001b[1m0s\u001b[0m 58ms/step - loss: 0.2139 - learning_rate: 0.0010\n",
            "Epoch 10/20\n",
            "\u001b[1m1/1\u001b[0m \u001b[32m━━━━━━━━━━━━━━━━━━━━\u001b[0m\u001b[37m\u001b[0m \u001b[1m0s\u001b[0m 38ms/step - loss: 0.5546 - learning_rate: 0.0010\n",
            "Epoch 11/20\n",
            "\u001b[1m1/1\u001b[0m \u001b[32m━━━━━━━━━━━━━━━━━━━━\u001b[0m\u001b[37m\u001b[0m \u001b[1m0s\u001b[0m 31ms/step - loss: 0.9355 - learning_rate: 5.0000e-04\n",
            "Epoch 12/20\n",
            "\u001b[1m1/1\u001b[0m \u001b[32m━━━━━━━━━━━━━━━━━━━━\u001b[0m\u001b[37m\u001b[0m \u001b[1m0s\u001b[0m 58ms/step - loss: 0.9420 - learning_rate: 5.0000e-04\n",
            "Epoch 13/20\n",
            "\u001b[1m1/1\u001b[0m \u001b[32m━━━━━━━━━━━━━━━━━━━━\u001b[0m\u001b[37m\u001b[0m \u001b[1m0s\u001b[0m 64ms/step - loss: 0.8796 - learning_rate: 5.0000e-04\n",
            "Epoch 14/20\n",
            "\u001b[1m1/1\u001b[0m \u001b[32m━━━━━━━━━━━━━━━━━━━━\u001b[0m\u001b[37m\u001b[0m \u001b[1m0s\u001b[0m 47ms/step - loss: 0.6913 - learning_rate: 5.0000e-04\n",
            "Epoch 15/20\n",
            "\u001b[1m1/1\u001b[0m \u001b[32m━━━━━━━━━━━━━━━━━━━━\u001b[0m\u001b[37m\u001b[0m \u001b[1m0s\u001b[0m 59ms/step - loss: 0.4996 - learning_rate: 5.0000e-04\n",
            "Epoch 16/20\n",
            "\u001b[1m1/1\u001b[0m \u001b[32m━━━━━━━━━━━━━━━━━━━━\u001b[0m\u001b[37m\u001b[0m \u001b[1m0s\u001b[0m 51ms/step - loss: 0.3730 - learning_rate: 5.0000e-04\n",
            "Epoch 17/20\n",
            "\u001b[1m1/1\u001b[0m \u001b[32m━━━━━━━━━━━━━━━━━━━━\u001b[0m\u001b[37m\u001b[0m \u001b[1m0s\u001b[0m 55ms/step - loss: 0.1755 - learning_rate: 5.0000e-04\n",
            "Epoch 18/20\n",
            "\u001b[1m1/1\u001b[0m \u001b[32m━━━━━━━━━━━━━━━━━━━━\u001b[0m\u001b[37m\u001b[0m \u001b[1m0s\u001b[0m 29ms/step - loss: 0.2897 - learning_rate: 5.0000e-04\n",
            "Epoch 19/20\n",
            "\u001b[1m1/1\u001b[0m \u001b[32m━━━━━━━━━━━━━━━━━━━━\u001b[0m\u001b[37m\u001b[0m \u001b[1m0s\u001b[0m 30ms/step - loss: 0.1312 - learning_rate: 5.0000e-04\n",
            "Epoch 20/20\n",
            "\u001b[1m1/1\u001b[0m \u001b[32m━━━━━━━━━━━━━━━━━━━━\u001b[0m\u001b[37m\u001b[0m \u001b[1m0s\u001b[0m 58ms/step - loss: 0.1034 - learning_rate: 5.0000e-04\n"
          ]
        },
        {
          "output_type": "display_data",
          "data": {
            "text/plain": [
              "<Figure size 640x480 with 1 Axes>"
            ],
            "image/png": "[encoded data removed]"
          },
          "metadata": {}
        }
      ],
      "source": [
        "# Write your code here\n",
        "import numpy as np\n",
        "import pandas as pd\n",
        "import tensorflow as tf\n",
        "from sklearn.preprocessing import MinMaxScaler\n",
        "from sklearn.model_selection import train_test_split\n",
        "from tensorflow.keras.layers import Layer, Dense, LayerNormalization, Dropout, Input\n",
        "from tensorflow.keras.callbacks import EarlyStopping\n",
        "import matplotlib.pyplot as plt\n",
        "\n",
        "# Define a learning rate scheduler\n",
        "def scheduler(epoch, lr):\n",
        "    if epoch % 10 == 0 and epoch != 0:\n",
        "        lr = lr * 0.5\n",
        "    return lr\n",
        "\n",
        "\n",
        "callback = tf.keras.callbacks.LearningRateScheduler(scheduler)\n",
        "\n",
        "\n",
        "# Train the model with the learning rate scheduler\n",
        "history = model.fit(X, Y, epochs=20, batch_size=64, callbacks=[callback])\n",
        "\n",
        "\n",
        "# Plot the training loss\n",
        "plt.plot(history.history['loss'])\n",
        "plt.xlabel('Epoch')\n",
        "plt.ylabel('Loss')\n",
        "plt.title('Training Loss with Learning Rate Scheduler')\n",
        "plt.show()"
      ],
      "execution_count": 25
    },
    {
      "cell_type": "markdown",
      "metadata": {
        "id": "c95c8fed-ca1b-4cd6-ac77-bca4d4acfea9"
      },
      "source": [
        "<details>\n",
        "    <summary>Click here for Solution</summary>\n",
        "\n",
        "```python\n",
        "import numpy as np\n",
        "import pandas as pd\n",
        "import tensorflow as tf\n",
        "from sklearn.preprocessing import MinMaxScaler\n",
        "from sklearn.model_selection import train_test_split\n",
        "from tensorflow.keras.layers import Layer, Dense, LayerNormalization, Dropout, Input\n",
        "from tensorflow.keras.callbacks import EarlyStopping\n",
        "import matplotlib.pyplot as plt\n",
        "\n",
        "# Define a learning rate scheduler  \n",
        "def scheduler(epoch, lr):  \n",
        "    if epoch % 10 == 0 and epoch != 0:  \n",
        "        lr = lr * 0.5  \n",
        "    return lr  \n",
        "\n",
        "\n",
        "callback = tf.keras.callbacks.LearningRateScheduler(scheduler)  \n",
        "\n",
        "\n",
        "# Train the model with the learning rate scheduler  \n",
        "history = model.fit(X, Y, epochs=20, batch_size=64, callbacks=[callback])  \n",
        "   \n",
        "\n",
        "# Plot the training loss  \n",
        "plt.plot(history.history['loss'])  \n",
        "plt.xlabel('Epoch')  \n",
        "plt.ylabel('Loss')  \n",
        "plt.title('Training Loss with Learning Rate Scheduler')  \n",
        "plt.show()\n",
        "```\n",
        "\n",
        "</details>\n"
      ]
    },
    {
      "cell_type": "markdown",
      "metadata": {
        "id": "2e6d8531-b23a-47b7-8354-ff4382740ab1"
      },
      "source": [
        "### Exercise 3: Generate longer text sequences\n",
        "\n",
        "**Objective:** To explore the model's text generation capabilities and generate longer sequences.\n",
        "\n",
        "**Instructions:**\n",
        "\n",
        "- Modify the `generate_text` function to generate 200 tokens instead of 100\n",
        "\n",
        "- Generate text using the trained model and the modified function\n"
      ]
    },
    {
      "cell_type": "code",
      "metadata": {
        "id": "6b0130d6-5d52-4da3-8aed-711dbd4c9625"
      },
      "outputs": [],
      "source": [
        "# Write your code here"
      ],
      "execution_count": null
    },
    {
      "cell_type": "markdown",
      "metadata": {
        "id": "519a5f34-5fff-4722-8fd1-5a545bb47913"
      },
      "source": [
        "<details>\n",
        "    <summary>Click here for Solution</summary>\n",
        "\n",
        "```python\n",
        "\n",
        "import numpy as np\n",
        "import pandas as pd\n",
        "import tensorflow as tf\n",
        "from sklearn.preprocessing import MinMaxScaler\n",
        "from sklearn.model_selection import train_test_split\n",
        "from tensorflow.keras.layers import Layer, Dense, LayerNormalization, Dropout, Input\n",
        "from tensorflow.keras.callbacks import EarlyStopping\n",
        "import matplotlib.pyplot as plt\n",
        "\n",
        "def generate_text(model, start_string, num_generate=200):\n",
        "    # Convert the start string to numbers (vectorize)\n",
        "    input_eval = vectorizer([start_string]).numpy()\n",
        "\n",
        "    # Ensure the input tensor has the correct shape\n",
        "    input_eval = tf.convert_to_tensor(input_eval[:, -5:])  # Ensure it has a shape of (1, 5)\n",
        "    \n",
        "    text_generated = []\n",
        "\n",
        "    for i in range(num_generate):\n",
        "        # Make predictions using the model\n",
        "        predictions = model(input_eval)\n",
        "\n",
        "        # Ensure predictions is a matrix with shape [batch_size, num_classes]\n",
        "        predictions = tf.squeeze(predictions, 0)  # Remove the batch dimension\n",
        "        predictions = tf.expand_dims(predictions, 0)  # Add back a batch dimension for categorical\n",
        "        \n",
        "        # Use a categorical distribution to predict the next word\n",
        "        predicted_id = tf.random.categorical(predictions, num_samples=1)[-1, 0].numpy()\n",
        "\n",
        "        # Update the input tensor to include the predicted word, maintaining the sequence length\n",
        "        input_eval = np.append(input_eval.numpy(), [[predicted_id]], axis=1)  # Append predicted token\n",
        "        input_eval = input_eval[:, -5:]  # Keep only the last 5 tokens to match input shape\n",
        "        input_eval = tf.convert_to_tensor(input_eval)  # Convert back to tensor\n",
        "        \n",
        "        # Add the predicted word to the generated text\n",
        "        text_generated.append(vectorizer.get_vocabulary()[predicted_id])\n",
        "\n",
        "    return start_string + ' ' + ' '.join(text_generated)\n",
        "\n",
        "\n",
        "# Generate longer text\n",
        "start_string = \"To be, or not to be\"\n",
        "generated_text = generate_text(model, start_string)\n",
        "\n",
        "print(generated_text)\n",
        "\n",
        "```\n",
        "\n",
        "</details>\n"
      ]
    },
    {
      "cell_type": "markdown",
      "metadata": {
        "id": "5aca094d-d690-4948-97b6-b1a99824acd7"
      },
      "source": [
        "#### Conclusion\n",
        "\n",
        "Congratulations on completing this lab! You have successfully built and trained a Transformer model for text generation in this lab using TensorFlow and Keras. You learned how to preprocess text data, create input and target sequences, define the Transformer model architecture, train the model, and generate text using the trained model. By completing this lab, you gained hands-on experience with Transformers for text generation and explored practical applications of this robust model architecture.\n"
      ]
    },
    {
      "cell_type": "markdown",
      "metadata": {
        "id": "1e894004-4d7e-4506-a653-272e655539d4"
      },
      "source": [
        "Copyright © IBM Corporation. All rights reserved.\n"
      ]
    }
  ],
  "metadata": {
    "kernelspec": {
      "display_name": "Python 3",
      "name": "python3"
    },
    "language_info": {
      "codemirror_mode": {
        "name": "ipython",
        "version": 3
      },
      "file_extension": ".py",
      "mimetype": "text/x-python",
      "name": "python",
      "nbconvert_exporter": "python",
      "pygments_lexer": "ipython3",
      "version": "3.11.9"
    },
    "prev_pub_hash": "2e6ca7cd09b5cd4f1194960912f1c49074e07ec8eedd449d96e6d372faa57813",
    "colab": {
      "provenance": [],
      "gpuType": "T4",
      "include_colab_link": true
    },
    "accelerator": "GPU"
  },
  "nbformat": 4,
  "nbformat_minor": 0
}