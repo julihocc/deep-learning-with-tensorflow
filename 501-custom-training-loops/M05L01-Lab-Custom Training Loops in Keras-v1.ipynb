{
  "cells": [
    {
      "cell_type": "markdown",
      "metadata": {
        "id": "view-in-github",
        "colab_type": "text"
      },
      "source": [
        "<a href=\"https://colab.research.google.com/github/julihocc/edx-ibm-DL0120EN/blob/main/501-custom-training-loops/M05L01-Lab-Custom%20Training%20Loops%20in%20Keras-v1.ipynb\" target=\"_parent\"><img src=\"https://colab.research.google.com/assets/colab-badge.svg\" alt=\"Open In Colab\"/></a>"
      ]
    },
    {
      "cell_type": "markdown",
      "metadata": {
        "id": "95e1ed43-b72e-42a0-98cc-c78f4d1dfb6a"
      },
      "source": [
        "<p style=\"text-align:center\">\n",
        "    <a href=\"https://skills.network\" target=\"_blank\">\n",
        "    <img src=\"https://cf-courses-data.s3.us.cloud-object-storage.appdomain.cloud/assets/logos/SN_web_lightmode.png\" width=\"200\" alt=\"Skills Network Logo\"  />\n",
        "    </a>\n",
        "</p>\n"
      ]
    },
    {
      "cell_type": "markdown",
      "metadata": {
        "id": "d533ca40-8918-439b-ade4-b852959ec7d6"
      },
      "source": [
        "# **Lab: Custom Training Loops in Keras**\n"
      ]
    },
    {
      "cell_type": "markdown",
      "metadata": {
        "id": "8fb21332-2067-4dc1-9788-6809ed739a6a"
      },
      "source": [
        "Estimated time needed: **30** minutes\n"
      ]
    },
    {
      "cell_type": "markdown",
      "metadata": {
        "id": "e8e07912-e233-4249-ae1d-18029889caaf"
      },
      "source": [
        "In this lab, you will learn to implement a basic custom training loop in Keras.\n"
      ]
    },
    {
      "cell_type": "markdown",
      "metadata": {
        "id": "dc472da5-2ee1-457b-b623-5e7541df536b"
      },
      "source": [
        "## Objectives\n",
        "\n",
        "By the end of this lab, you will:\n",
        "\n",
        "- Set up the environment\n",
        "\n",
        "- Define the neural network model\n",
        "\n",
        "- Define the Loss Function and Optimizer\n",
        "\n",
        "- Implement the custom training loop\n",
        "\n",
        "- Enhance the custom training loop by adding an accuracy metric to monitor model performance\n",
        "\n",
        "- Implement a custom callback to log additional metrics and information during training\n"
      ]
    },
    {
      "cell_type": "markdown",
      "metadata": {
        "id": "fbcc4b26-ad4c-4fc5-99cf-c15b8df5dafb"
      },
      "source": [
        "----\n"
      ]
    },
    {
      "cell_type": "markdown",
      "metadata": {
        "id": "000a5343-2449-4858-b67b-b2848a1f1e3c"
      },
      "source": [
        "## Step-by-Step Instructions:\n"
      ]
    },
    {
      "cell_type": "markdown",
      "metadata": {
        "id": "7f05a3c6-920a-4368-a112-0fc707574e40"
      },
      "source": [
        "### Exercise 1: Basic custom training loop:\n",
        "\n",
        "#### 1. Set Up the Environment:\n",
        "\n",
        "- Import necessary libraries.\n",
        "\n",
        "- Load and preprocess the MNIST dataset.\n"
      ]
    },
    {
      "cell_type": "code",
      "metadata": {
        "id": "ceaa1ebd-849b-4751-8ca6-34d3dafe5718"
      },
      "outputs": [],
      "source": [
        "# !pip install tensorflow numpy"
      ],
      "execution_count": 15
    },
    {
      "cell_type": "code",
      "metadata": {
        "id": "728f25e0-fb12-49a0-a9cb-88312e48f5bf"
      },
      "outputs": [],
      "source": [
        "import os\n",
        "import warnings\n",
        "import tensorflow as tf\n",
        "from tensorflow.keras.models import Sequential, Model\n",
        "from tensorflow.keras.layers import Dense, Flatten, Input\n",
        "from tensorflow.keras.callbacks import Callback\n",
        "import numpy as np\n",
        "\n",
        "# Suppress all Python warnings\n",
        "warnings.filterwarnings('ignore')\n",
        "\n",
        "# Set TensorFlow log level to suppress warnings and info messages\n",
        "os.environ['TF_CPP_MIN_LOG_LEVEL'] = '2'\n",
        "\n",
        "# Step 1: Set Up the Environment\n",
        "(x_train, y_train), (x_test, y_test) = tf.keras.datasets.mnist.load_data()\n",
        "x_train, x_test = x_train / 255.0, x_test / 255.0\n",
        "train_dataset = tf.data.Dataset.from_tensor_slices((x_train, y_train)).batch(32)\n"
      ],
      "execution_count": 16
    },
    {
      "cell_type": "markdown",
      "metadata": {
        "id": "2233472b-ec3c-45ba-a190-8086c8f61a6a"
      },
      "source": [
        "#### 2. Define the model:\n",
        "\n",
        "Create a simple neural network model with a Flatten layer followed by two Dense layers.\n"
      ]
    },
    {
      "cell_type": "code",
      "metadata": {
        "id": "a9ecb75e-7548-464d-bf40-d7bbff1a64e2"
      },
      "outputs": [],
      "source": [
        "# Step 2: Define the Model\n",
        "\n",
        "model = Sequential([\n",
        "    Flatten(input_shape=(28, 28)),\n",
        "    Dense(128, activation='relu'),\n",
        "    Dense(10)\n",
        "])\n"
      ],
      "execution_count": 17
    },
    {
      "cell_type": "markdown",
      "metadata": {
        "id": "39da66e3-1717-40ed-a8b5-413bb16dad08"
      },
      "source": [
        "#### 3. Define Loss Function and Optimizer:\n",
        "\n",
        "- Use Sparse Categorical Crossentropy for the loss function.\n",
        "- Use the Adam optimizer.\n"
      ]
    },
    {
      "cell_type": "code",
      "metadata": {
        "id": "fb5839c9-2bc1-41bd-a0cd-8b1fe65f2c7f"
      },
      "outputs": [],
      "source": [
        "# Step 3: Define Loss Function and Optimizer\n",
        "\n",
        "loss_fn = tf.keras.losses.SparseCategoricalCrossentropy(from_logits=True)\n",
        "optimizer = tf.keras.optimizers.Adam()\n"
      ],
      "execution_count": 18
    },
    {
      "cell_type": "markdown",
      "metadata": {
        "id": "1c75bf9b-6e3e-4246-a718-51bc4122d618"
      },
      "source": [
        "#### 4. Implement the Custom Training Loop:\n",
        "\n",
        "- Iterate over the dataset for a specified number of epochs.\n",
        "- Compute the loss and apply gradients to update the model's weights.\n"
      ]
    },
    {
      "cell_type": "code",
      "metadata": {
        "colab": {
          "base_uri": "https://localhost:8080/"
        },
        "id": "80afaf2c-1e40-4146-8672-d1b59b32ed91",
        "outputId": "30ca7645-eeb2-4cd8-f226-7fc8a831275e"
      },
      "outputs": [
        {
          "output_type": "stream",
          "name": "stdout",
          "text": [
            "Start of epoch 1\n",
            "Epoch 1 Step 0: Loss = 2.3983407020568848\n",
            "Epoch 1 Step 200: Loss = 0.3868812620639801\n",
            "Epoch 1 Step 400: Loss = 0.2090207040309906\n",
            "Epoch 1 Step 600: Loss = 0.15937647223472595\n",
            "Epoch 1 Step 800: Loss = 0.1786803901195526\n",
            "Epoch 1 Step 1000: Loss = 0.4362325966358185\n",
            "Epoch 1 Step 1200: Loss = 0.1800619214773178\n",
            "Epoch 1 Step 1400: Loss = 0.24225567281246185\n",
            "Epoch 1 Step 1600: Loss = 0.22541722655296326\n",
            "Epoch 1 Step 1800: Loss = 0.19253113865852356\n",
            "Start of epoch 2\n",
            "Epoch 2 Step 0: Loss = 0.08046308904886246\n",
            "Epoch 2 Step 200: Loss = 0.16261208057403564\n",
            "Epoch 2 Step 400: Loss = 0.15316174924373627\n",
            "Epoch 2 Step 600: Loss = 0.04986324906349182\n",
            "Epoch 2 Step 800: Loss = 0.09929415583610535\n",
            "Epoch 2 Step 1000: Loss = 0.21202580630779266\n",
            "Epoch 2 Step 1200: Loss = 0.1064683198928833\n",
            "Epoch 2 Step 1400: Loss = 0.14210103452205658\n",
            "Epoch 2 Step 1600: Loss = 0.18544624745845795\n",
            "Epoch 2 Step 1800: Loss = 0.07566620409488678\n"
          ]
        }
      ],
      "source": [
        "# Step 4: Implement the Custom Training Loop\n",
        "\n",
        "epochs = 2\n",
        "# train_dataset = train_dataset.repeat(epochs)\n",
        "train_dataset = tf.data.Dataset.from_tensor_slices((x_train, y_train)).batch(32)\n",
        "for epoch in range(epochs):\n",
        "    print(f'Start of epoch {epoch + 1}')\n",
        "\n",
        "    for step, (x_batch_train, y_batch_train) in enumerate(train_dataset):\n",
        "        with tf.GradientTape() as tape:\n",
        "            logits = model(x_batch_train, training=True)  # Forward pass\n",
        "            loss_value = loss_fn(y_batch_train, logits)  # Compute loss\n",
        "\n",
        "        # Compute gradients and update weights\n",
        "        grads = tape.gradient(loss_value, model.trainable_weights)\n",
        "        optimizer.apply_gradients(zip(grads, model.trainable_weights))\n",
        "\n",
        "        # Logging the loss every 200 steps\n",
        "        if step % 200 == 0:\n",
        "            print(f'Epoch {epoch + 1} Step {step}: Loss = {loss_value.numpy()}')\n"
      ],
      "execution_count": 19
    },
    {
      "cell_type": "markdown",
      "metadata": {
        "id": "238c0013-3e17-4937-a602-217111db3f22"
      },
      "source": [
        "### Exercise 2: Adding Accuracy Metric:\n",
        "\n",
        "Enhance the custom training loop by adding an accuracy metric to monitor model performance.\n",
        "\n",
        "#### 1. Set Up the Environment:\n",
        "\n",
        "Follow the setup from Exercise 1.\n"
      ]
    },
    {
      "cell_type": "code",
      "metadata": {
        "id": "b891a118-9ed8-4806-929c-baf71a646d09"
      },
      "outputs": [],
      "source": [
        "import tensorflow as tf\n",
        "from tensorflow.keras.models import Sequential\n",
        "from tensorflow.keras.layers import Dense, Flatten\n",
        "\n",
        "# Step 1: Set Up the Environment\n",
        "(x_train, y_train), (x_test, y_test) = tf.keras.datasets.mnist.load_data()\n",
        "\n",
        "# Normalize the pixel values to be between 0 and 1\n",
        "x_train, x_test = x_train / 255.0, x_test / 255.0\n",
        "\n",
        "# Create a batched dataset for training\n",
        "train_dataset = tf.data.Dataset.from_tensor_slices((x_train, y_train)).batch(32)\n"
      ],
      "execution_count": 20
    },
    {
      "cell_type": "markdown",
      "metadata": {
        "id": "a9cfea84-f1df-407d-9f84-0adb91e3bba7"
      },
      "source": [
        "#### 2. Define the Model:\n",
        "Use the same model as in Exercise 1.\n"
      ]
    },
    {
      "cell_type": "code",
      "metadata": {
        "id": "7263943a-fcaf-4b16-b24c-25f80911fe78"
      },
      "outputs": [],
      "source": [
        "# Step 2: Define the Model\n",
        "\n",
        "model = Sequential([\n",
        "    Flatten(input_shape=(28, 28)),  # Flatten the input to a 1D vector\n",
        "    Dense(128, activation='relu'),  # First hidden layer with 128 neurons and ReLU activation\n",
        "    Dense(10)  # Output layer with 10 neurons for the 10 classes (digits 0-9)\n",
        "])\n"
      ],
      "execution_count": 21
    },
    {
      "cell_type": "markdown",
      "metadata": {
        "id": "37bacfd4-5dbb-4f93-a388-bfdd1da07c59"
      },
      "source": [
        "#### 3. Define the loss function, optimizer, and metric:\n",
        "\n",
        "- Use Sparse Categorical Crossentropy for the loss function and Adam optimizer.\n",
        "\n",
        "- Add Sparse Categorical Accuracy as a metric.\n"
      ]
    },
    {
      "cell_type": "code",
      "metadata": {
        "id": "b425d918-3140-4e52-9e61-14e7b192ae7b"
      },
      "outputs": [],
      "source": [
        "# Step 3: Define Loss Function, Optimizer, and Metric\n",
        "\n",
        "loss_fn = tf.keras.losses.SparseCategoricalCrossentropy(from_logits=True)  # Loss function for multi-class classification\n",
        "optimizer = tf.keras.optimizers.Adam()  # Adam optimizer for efficient training\n",
        "accuracy_metric = tf.keras.metrics.SparseCategoricalAccuracy()  # Metric to track accuracy during training\n"
      ],
      "execution_count": 22
    },
    {
      "cell_type": "markdown",
      "metadata": {
        "id": "bba0bb46-7671-4192-b624-8b40e3bc8a00"
      },
      "source": [
        "#### 4. Implement the custom training loop with accuracy:\n",
        "\n",
        "Track the accuracy during training and print it at regular intervals.\n"
      ]
    },
    {
      "cell_type": "code",
      "metadata": {
        "colab": {
          "base_uri": "https://localhost:8080/"
        },
        "id": "7bb3041b-89b1-41f5-a557-4b9fad10236a",
        "outputId": "50c2d924-4288-423f-9926-09c5c034e264"
      },
      "outputs": [
        {
          "output_type": "stream",
          "name": "stdout",
          "text": [
            "Start of epoch 1\n",
            "Epoch 1 Step 0: Loss = 2.367699384689331 Accuracy = 0.09375\n",
            "Epoch 1 Step 200: Loss = 0.3718487322330475 Accuracy = 0.8383084535598755\n",
            "Epoch 1 Step 400: Loss = 0.2096899002790451 Accuracy = 0.8693110942840576\n",
            "Epoch 1 Step 600: Loss = 0.17990222573280334 Accuracy = 0.8841513991355896\n",
            "Epoch 1 Step 800: Loss = 0.18855485320091248 Accuracy = 0.8961454629898071\n",
            "Epoch 1 Step 1000: Loss = 0.4067164659500122 Accuracy = 0.902847170829773\n",
            "Epoch 1 Step 1200: Loss = 0.18290287256240845 Accuracy = 0.9087739586830139\n",
            "Epoch 1 Step 1400: Loss = 0.2385481297969818 Accuracy = 0.9137223362922668\n",
            "Epoch 1 Step 1600: Loss = 0.24708230793476105 Accuracy = 0.9167317152023315\n",
            "Epoch 1 Step 1800: Loss = 0.15053756535053253 Accuracy = 0.9206517338752747\n",
            "Start of epoch 2\n",
            "Epoch 2 Step 0: Loss = 0.0942240059375763 Accuracy = 0.96875\n",
            "Epoch 2 Step 200: Loss = 0.19432005286216736 Accuracy = 0.9611318111419678\n",
            "Epoch 2 Step 400: Loss = 0.08539441227912903 Accuracy = 0.9580735564231873\n",
            "Epoch 2 Step 600: Loss = 0.05875159054994583 Accuracy = 0.9597545862197876\n",
            "Epoch 2 Step 800: Loss = 0.14177866280078888 Accuracy = 0.9607911705970764\n",
            "Epoch 2 Step 1000: Loss = 0.25309979915618896 Accuracy = 0.9611014127731323\n",
            "Epoch 2 Step 1200: Loss = 0.093834787607193 Accuracy = 0.9618546962738037\n",
            "Epoch 2 Step 1400: Loss = 0.16631187498569489 Accuracy = 0.9626829028129578\n",
            "Epoch 2 Step 1600: Loss = 0.1553884744644165 Accuracy = 0.9624063372612\n",
            "Epoch 2 Step 1800: Loss = 0.07763694226741791 Accuracy = 0.9633190035820007\n",
            "Start of epoch 3\n",
            "Epoch 3 Step 0: Loss = 0.04184311255812645 Accuracy = 1.0\n",
            "Epoch 3 Step 200: Loss = 0.13293521106243134 Accuracy = 0.9748134613037109\n",
            "Epoch 3 Step 400: Loss = 0.09356934577226639 Accuracy = 0.9726465344429016\n",
            "Epoch 3 Step 600: Loss = 0.031053606420755386 Accuracy = 0.9742616415023804\n",
            "Epoch 3 Step 800: Loss = 0.10756708681583405 Accuracy = 0.9746410846710205\n",
            "Epoch 3 Step 1000: Loss = 0.15449199080467224 Accuracy = 0.9751186370849609\n",
            "Epoch 3 Step 1200: Loss = 0.042653538286685944 Accuracy = 0.9752810001373291\n",
            "Epoch 3 Step 1400: Loss = 0.09081132709980011 Accuracy = 0.9755755066871643\n",
            "Epoch 3 Step 1600: Loss = 0.09925694763660431 Accuracy = 0.9754255414009094\n",
            "Epoch 3 Step 1800: Loss = 0.044305309653282166 Accuracy = 0.9758641123771667\n",
            "Start of epoch 4\n",
            "Epoch 4 Step 0: Loss = 0.021580511704087257 Accuracy = 1.0\n",
            "Epoch 4 Step 200: Loss = 0.09866609424352646 Accuracy = 0.981809675693512\n",
            "Epoch 4 Step 400: Loss = 0.09827789664268494 Accuracy = 0.9803615808486938\n",
            "Epoch 4 Step 600: Loss = 0.03512226790189743 Accuracy = 0.9815931916236877\n",
            "Epoch 4 Step 800: Loss = 0.07526370137929916 Accuracy = 0.9813514351844788\n",
            "Epoch 4 Step 1000: Loss = 0.1521277278661728 Accuracy = 0.9816745519638062\n",
            "Epoch 4 Step 1200: Loss = 0.02978608012199402 Accuracy = 0.9816299080848694\n",
            "Epoch 4 Step 1400: Loss = 0.04965481534600258 Accuracy = 0.9817541241645813\n",
            "Epoch 4 Step 1600: Loss = 0.041028302162885666 Accuracy = 0.9817692041397095\n",
            "Epoch 4 Step 1800: Loss = 0.026066603139042854 Accuracy = 0.9820759296417236\n",
            "Start of epoch 5\n",
            "Epoch 5 Step 0: Loss = 0.014177002012729645 Accuracy = 1.0\n",
            "Epoch 5 Step 200: Loss = 0.06316991150379181 Accuracy = 0.9883395433425903\n",
            "Epoch 5 Step 400: Loss = 0.07434075325727463 Accuracy = 0.9872194528579712\n",
            "Epoch 5 Step 600: Loss = 0.027257036417722702 Accuracy = 0.9873648285865784\n",
            "Epoch 5 Step 800: Loss = 0.05859201401472092 Accuracy = 0.9870474338531494\n",
            "Epoch 5 Step 1000: Loss = 0.13083180785179138 Accuracy = 0.9873563647270203\n",
            "Epoch 5 Step 1200: Loss = 0.04139135777950287 Accuracy = 0.987458348274231\n",
            "Epoch 5 Step 1400: Loss = 0.04201988875865936 Accuracy = 0.9873527884483337\n",
            "Epoch 5 Step 1600: Loss = 0.019187189638614655 Accuracy = 0.9873711466789246\n",
            "Epoch 5 Step 1800: Loss = 0.02184073068201542 Accuracy = 0.987368106842041\n"
          ]
        }
      ],
      "source": [
        "# Step 4: Implement the Custom Training Loop with Accuracy\n",
        "\n",
        "epochs = 5  # Number of epochs for training\n",
        "\n",
        "for epoch in range(epochs):\n",
        "    print(f'Start of epoch {epoch + 1}')\n",
        "\n",
        "    for step, (x_batch_train, y_batch_train) in enumerate(train_dataset):\n",
        "        with tf.GradientTape() as tape:\n",
        "            # Forward pass: Compute predictions\n",
        "            logits = model(x_batch_train, training=True)\n",
        "            # Compute loss\n",
        "            loss_value = loss_fn(y_batch_train, logits)\n",
        "\n",
        "        # Compute gradients\n",
        "        grads = tape.gradient(loss_value, model.trainable_weights)\n",
        "        # Apply gradients to update model weights\n",
        "        optimizer.apply_gradients(zip(grads, model.trainable_weights))\n",
        "\n",
        "        # Update the accuracy metric\n",
        "        accuracy_metric.update_state(y_batch_train, logits)\n",
        "\n",
        "        # Log the loss and accuracy every 200 steps\n",
        "        if step % 200 == 0:\n",
        "            print(f'Epoch {epoch + 1} Step {step}: Loss = {loss_value.numpy()} Accuracy = {accuracy_metric.result().numpy()}')\n",
        "\n",
        "    # Reset the metric at the end of each epoch\n",
        "    accuracy_metric.reset_state()\n"
      ],
      "execution_count": 23
    },
    {
      "cell_type": "markdown",
      "metadata": {
        "id": "3aad4044-971c-4c8d-bd28-d8fc21cdaba5"
      },
      "source": [
        "### Exercise 3: Custom Callback for Advanced Logging:\n",
        "\n",
        "Implement a custom callback to log additional metrics and information during training.\n",
        "\n",
        "#### 1. Set Up the Environment:\n",
        "\n",
        "Follow the setup from Exercise 1.\n"
      ]
    },
    {
      "cell_type": "code",
      "metadata": {
        "id": "1dc7593c-59fe-4d2b-ae24-04277b43ba83"
      },
      "outputs": [],
      "source": [
        "import tensorflow as tf\n",
        "from tensorflow.keras.models import Sequential\n",
        "from tensorflow.keras.layers import Dense, Flatten\n",
        "\n",
        "# Step 1: Set Up the Environment\n",
        "(x_train, y_train), (x_test, y_test) = tf.keras.datasets.mnist.load_data()\n",
        "\n",
        "# Normalize the pixel values to be between 0 and 1\n",
        "x_train, x_test = x_train / 255.0, x_test / 255.0\n",
        "\n",
        "# Create a batched dataset for training\n",
        "train_dataset = tf.data.Dataset.from_tensor_slices((x_train, y_train)).batch(32)\n"
      ],
      "execution_count": 24
    },
    {
      "cell_type": "markdown",
      "metadata": {
        "id": "9e17f468-52d3-4f74-9160-49244766c548"
      },
      "source": [
        "#### 2. Define the Model:\n",
        "\n",
        "Use the same model as in Exercise 1.\n"
      ]
    },
    {
      "cell_type": "code",
      "metadata": {
        "id": "c7322571-c9f4-4ecb-b57a-a2051660692f"
      },
      "outputs": [],
      "source": [
        "# Step 2: Define the Model\n",
        "\n",
        "model = Sequential([\n",
        "    Flatten(input_shape=(28, 28)),  # Flatten the input to a 1D vector\n",
        "    Dense(128, activation='relu'),  # First hidden layer with 128 neurons and ReLU activation\n",
        "    Dense(10)  # Output layer with 10 neurons for the 10 classes (digits 0-9)\n",
        "])\n"
      ],
      "execution_count": 25
    },
    {
      "cell_type": "markdown",
      "metadata": {
        "id": "0f674612-bef3-4945-b39c-c11e7685ac5b"
      },
      "source": [
        "#### 3. Define Loss Function, Optimizer, and Metric:\n",
        "\n",
        "- Use Sparse Categorical Crossentropy for the loss function and Adam optimizer.\n",
        "\n",
        "- Add Sparse Categorical Accuracy as a metric.\n"
      ]
    },
    {
      "cell_type": "code",
      "metadata": {
        "id": "c07e5957-4fca-45ff-aca2-597a30303f1c"
      },
      "outputs": [],
      "source": [
        "# Step 3: Define Loss Function, Optimizer, and Metric\n",
        "\n",
        "loss_fn = tf.keras.losses.SparseCategoricalCrossentropy(from_logits=True)  # Loss function for multi-class classification\n",
        "optimizer = tf.keras.optimizers.Adam()  # Adam optimizer for efficient training\n",
        "accuracy_metric = tf.keras.metrics.SparseCategoricalAccuracy()  # Metric to track accuracy during training\n"
      ],
      "execution_count": 26
    },
    {
      "cell_type": "markdown",
      "metadata": {
        "id": "2e6cf7ff-9484-4bca-a1fe-3dc5641bfdd7"
      },
      "source": [
        "#### 4. Implement the custom training loop with custom callback:\n",
        "\n",
        "Create a custom callback to log additional metrics at the end of each epoch.\n"
      ]
    },
    {
      "cell_type": "code",
      "metadata": {
        "id": "ab211a00-900c-4d4a-bbec-4b189d4152d1"
      },
      "outputs": [],
      "source": [
        "from tensorflow.keras.callbacks import Callback\n",
        "\n",
        "# Step 4: Implement the Custom Callback\n",
        "class CustomCallback(Callback):\n",
        "    def on_epoch_end(self, epoch, logs=None):\n",
        "        logs = logs or {}\n",
        "        print(f'End of epoch {epoch + 1}, loss: {logs.get(\"loss\")}, accuracy: {logs.get(\"accuracy\")}')\n"
      ],
      "execution_count": 27
    },
    {
      "cell_type": "code",
      "metadata": {
        "colab": {
          "base_uri": "https://localhost:8080/"
        },
        "id": "96faf68c-e238-4c03-a37c-0a05e90e15c5",
        "outputId": "0756581b-1b45-4c7e-8a45-2915f29fa7a2"
      },
      "outputs": [
        {
          "output_type": "stream",
          "name": "stdout",
          "text": [
            "Start of epoch 1\n",
            "Epoch 1 Step 0: Loss = 2.339642286300659 Accuracy = 0.0625\n",
            "Epoch 1 Step 200: Loss = 0.37346452474594116 Accuracy = 0.83659827709198\n",
            "Epoch 1 Step 400: Loss = 0.19393469393253326 Accuracy = 0.8671290278434753\n",
            "Epoch 1 Step 600: Loss = 0.14295543730258942 Accuracy = 0.8819155693054199\n",
            "Epoch 1 Step 800: Loss = 0.16622671484947205 Accuracy = 0.894467830657959\n",
            "Epoch 1 Step 1000: Loss = 0.400552362203598 Accuracy = 0.9015359878540039\n",
            "Epoch 1 Step 1200: Loss = 0.1811683475971222 Accuracy = 0.9076290726661682\n",
            "Epoch 1 Step 1400: Loss = 0.2354322075843811 Accuracy = 0.9125624299049377\n",
            "Epoch 1 Step 1600: Loss = 0.2442900389432907 Accuracy = 0.916185200214386\n",
            "Epoch 1 Step 1800: Loss = 0.17380791902542114 Accuracy = 0.9198535680770874\n",
            "End of epoch 1, loss: 0.03805088624358177, accuracy: 0.9218500256538391\n",
            "Start of epoch 2\n",
            "Epoch 2 Step 0: Loss = 0.08889023214578629 Accuracy = 0.96875\n",
            "Epoch 2 Step 200: Loss = 0.15130817890167236 Accuracy = 0.9581778645515442\n",
            "Epoch 2 Step 400: Loss = 0.10662149637937546 Accuracy = 0.9562032222747803\n",
            "Epoch 2 Step 600: Loss = 0.0461159273982048 Accuracy = 0.958246648311615\n",
            "Epoch 2 Step 800: Loss = 0.10390444099903107 Accuracy = 0.9595037698745728\n",
            "Epoch 2 Step 1000: Loss = 0.24523943662643433 Accuracy = 0.9602584838867188\n",
            "Epoch 2 Step 1200: Loss = 0.13282305002212524 Accuracy = 0.9608138799667358\n",
            "Epoch 2 Step 1400: Loss = 0.16330088675022125 Accuracy = 0.9618576169013977\n",
            "Epoch 2 Step 1600: Loss = 0.15386152267456055 Accuracy = 0.9618597626686096\n",
            "Epoch 2 Step 1800: Loss = 0.08494169265031815 Accuracy = 0.962677001953125\n",
            "End of epoch 2, loss: 0.026030153036117554, accuracy: 0.9634000062942505\n"
          ]
        }
      ],
      "source": [
        "# Step 5: Implement the Custom Training Loop with Custom Callback\n",
        "\n",
        "epochs = 2\n",
        "custom_callback = CustomCallback()  # Initialize the custom callback\n",
        "\n",
        "for epoch in range(epochs):\n",
        "    print(f'Start of epoch {epoch + 1}')\n",
        "\n",
        "    for step, (x_batch_train, y_batch_train) in enumerate(train_dataset):\n",
        "        with tf.GradientTape() as tape:\n",
        "            # Forward pass: Compute predictions\n",
        "            logits = model(x_batch_train, training=True)\n",
        "            # Compute loss\n",
        "            loss_value = loss_fn(y_batch_train, logits)\n",
        "\n",
        "        # Compute gradients\n",
        "        grads = tape.gradient(loss_value, model.trainable_weights)\n",
        "        # Apply gradients to update model weights\n",
        "        optimizer.apply_gradients(zip(grads, model.trainable_weights))\n",
        "\n",
        "        # Update the accuracy metric\n",
        "        accuracy_metric.update_state(y_batch_train, logits)\n",
        "\n",
        "        # Log the loss and accuracy every 200 steps\n",
        "        if step % 200 == 0:\n",
        "            print(f'Epoch {epoch + 1} Step {step}: Loss = {loss_value.numpy()} Accuracy = {accuracy_metric.result().numpy()}')\n",
        "\n",
        "    # Call the custom callback at the end of each epoch\n",
        "    custom_callback.on_epoch_end(epoch, logs={'loss': loss_value.numpy(), 'accuracy': accuracy_metric.result().numpy()})\n",
        "\n",
        "    # Reset the metric at the end of each epoch\n",
        "    accuracy_metric.reset_state()  # Use reset_state() instead of reset_states()\n"
      ],
      "execution_count": 28
    },
    {
      "cell_type": "markdown",
      "metadata": {
        "id": "1ee821e6-3cd8-40f0-ac75-dbfe945d8a61"
      },
      "source": [
        "### Exercise 4: Add Hidden Layers\n",
        "\n",
        "Next, you will add a couple of hidden layers to your model. Hidden layers help the model learn complex patterns in the data.\n"
      ]
    },
    {
      "cell_type": "code",
      "metadata": {
        "id": "b287da11-9d49-4168-b6f2-0bfd700436d9"
      },
      "outputs": [],
      "source": [
        "from tensorflow.keras.layers import Input, Dense\n",
        "\n",
        "# Define the input layer\n",
        "input_layer = Input(shape=(28, 28))  # Input layer with shape (28, 28)\n",
        "\n",
        "# Define hidden layers\n",
        "hidden_layer1 = Dense(64, activation='relu')(input_layer)  # First hidden layer with 64 neurons and ReLU activation\n",
        "hidden_layer2 = Dense(64, activation='relu')(hidden_layer1)  # Second hidden layer with 64 neurons and ReLU activation\n"
      ],
      "execution_count": 29
    },
    {
      "cell_type": "markdown",
      "metadata": {
        "id": "cc8f1d08-049b-48b9-ab13-6fa1e8dbb277"
      },
      "source": [
        "In the above code:\n",
        "\n",
        "`Dense(64, activation='relu')` creates a dense (fully connected) layer with 64 units and ReLU activation function.\n",
        "\n",
        "Each hidden layer takes the output of the previous layer as its input.\n"
      ]
    },
    {
      "cell_type": "markdown",
      "metadata": {
        "id": "2b18fcbc-2eaa-4bc2-bcb3-9f7de03b6ad6"
      },
      "source": [
        "### Exercise 5: Define the output layer\n",
        "\n",
        "Finally, you will define the output layer. Suppose you are working on a binary classification problem, so the output layer will have one unit with a sigmoid activation function.\n"
      ]
    },
    {
      "cell_type": "code",
      "metadata": {
        "id": "5086b813-b03b-477f-84b3-ab8bb9710092"
      },
      "outputs": [],
      "source": [
        "output_layer = Dense(1, activation='sigmoid')(hidden_layer2)"
      ],
      "execution_count": 30
    },
    {
      "cell_type": "markdown",
      "metadata": {
        "id": "5b8c8f85-6bcf-467f-a2c3-1b673e7e1c48"
      },
      "source": [
        "In the above code:\n",
        "\n",
        "`Dense(1, activation='sigmoid')` creates a dense layer with 1 unit and a sigmoid activation function, suitable for binary classification.\n"
      ]
    },
    {
      "cell_type": "markdown",
      "metadata": {
        "id": "7ff495f0-981d-47ff-8d39-5472a7e6fc41"
      },
      "source": [
        "### Exercise 6: Create the Model\n",
        "\n",
        "Now, you will create the model by specifying the input and output layers.\n"
      ]
    },
    {
      "cell_type": "code",
      "metadata": {
        "id": "1cfab49b-9c28-4bfb-8b63-b7d948d71720"
      },
      "outputs": [],
      "source": [
        "model = Model(inputs=input_layer, outputs=output_layer)"
      ],
      "execution_count": 31
    },
    {
      "cell_type": "markdown",
      "metadata": {
        "id": "ac3ab09e-86b9-4735-aa26-fe59132510e0"
      },
      "source": [
        "In the above code:\n",
        "\n",
        "`Model(inputs=input_layer, outputs=output_layer)` creates a Keras model that connects the input layer to the output layer through the hidden layers.\n"
      ]
    },
    {
      "cell_type": "markdown",
      "metadata": {
        "id": "c69cc5f9-f744-4b96-bd64-5dc8e6888d62"
      },
      "source": [
        "### Exercise 7: Compile the Model\n",
        "\n",
        "Before training the model, you need to compile it. You will specify the loss function, optimizer, and evaluation metrics.\n"
      ]
    },
    {
      "cell_type": "code",
      "metadata": {
        "id": "56d0280a-cad5-4baa-ac39-09d61500c54d"
      },
      "outputs": [],
      "source": [
        "model.compile(optimizer='adam', loss='binary_crossentropy', metrics=['accuracy'])"
      ],
      "execution_count": 32
    },
    {
      "cell_type": "markdown",
      "metadata": {
        "id": "a61da84d-5d34-40fa-b58b-c7b5d0f8ffea"
      },
      "source": [
        "In the above code:\n",
        "\n",
        "`optimizer='adam'` specifies the Adam optimizer, a popular choice for training neural networks.\n",
        "\n",
        "`loss='binary_crossentropy'` specifies the loss function for binary classification problems.\n",
        "\n",
        "`metrics=['accuracy']` tells Keras to evaluate the model using accuracy during training.\n"
      ]
    },
    {
      "cell_type": "markdown",
      "metadata": {
        "id": "c4701696-b4fb-4379-8d66-124b94e66def"
      },
      "source": [
        "### Exercise 8: Train the Model\n",
        "\n",
        "You can now train the model on some training data. For this example, let's assume `X_train` is our training input data and `y_train` is the corresponding labels.\n"
      ]
    },
    {
      "cell_type": "code",
      "metadata": {
        "colab": {
          "base_uri": "https://localhost:8080/"
        },
        "id": "a897aeb1-e49e-4b02-a912-ff9617024faa",
        "outputId": "8fe6e777-fb62-41df-db59-534200305174"
      },
      "outputs": [
        {
          "output_type": "stream",
          "name": "stdout",
          "text": [
            "Epoch 1/10\n",
            "\u001b[1m32/32\u001b[0m \u001b[32m━━━━━━━━━━━━━━━━━━━━\u001b[0m\u001b[37m\u001b[0m \u001b[1m2s\u001b[0m 21ms/step - accuracy: 0.5017 - loss: 0.7001\n",
            "Epoch 2/10\n",
            "\u001b[1m32/32\u001b[0m \u001b[32m━━━━━━━━━━━━━━━━━━━━\u001b[0m\u001b[37m\u001b[0m \u001b[1m0s\u001b[0m 2ms/step - accuracy: 0.5140 - loss: 0.6906\n",
            "Epoch 3/10\n",
            "\u001b[1m32/32\u001b[0m \u001b[32m━━━━━━━━━━━━━━━━━━━━\u001b[0m\u001b[37m\u001b[0m \u001b[1m0s\u001b[0m 1ms/step - accuracy: 0.5638 - loss: 0.6835 \n",
            "Epoch 4/10\n",
            "\u001b[1m32/32\u001b[0m \u001b[32m━━━━━━━━━━━━━━━━━━━━\u001b[0m\u001b[37m\u001b[0m \u001b[1m0s\u001b[0m 2ms/step - accuracy: 0.5637 - loss: 0.6798 \n",
            "Epoch 5/10\n",
            "\u001b[1m32/32\u001b[0m \u001b[32m━━━━━━━━━━━━━━━━━━━━\u001b[0m\u001b[37m\u001b[0m \u001b[1m0s\u001b[0m 1ms/step - accuracy: 0.5566 - loss: 0.6840 \n",
            "Epoch 6/10\n",
            "\u001b[1m32/32\u001b[0m \u001b[32m━━━━━━━━━━━━━━━━━━━━\u001b[0m\u001b[37m\u001b[0m \u001b[1m0s\u001b[0m 1ms/step - accuracy: 0.6008 - loss: 0.6755 \n",
            "Epoch 7/10\n",
            "\u001b[1m32/32\u001b[0m \u001b[32m━━━━━━━━━━━━━━━━━━━━\u001b[0m\u001b[37m\u001b[0m \u001b[1m0s\u001b[0m 1ms/step - accuracy: 0.6090 - loss: 0.6747 \n",
            "Epoch 8/10\n",
            "\u001b[1m32/32\u001b[0m \u001b[32m━━━━━━━━━━━━━━━━━━━━\u001b[0m\u001b[37m\u001b[0m \u001b[1m0s\u001b[0m 1ms/step - accuracy: 0.5788 - loss: 0.6708 \n",
            "Epoch 9/10\n",
            "\u001b[1m32/32\u001b[0m \u001b[32m━━━━━━━━━━━━━━━━━━━━\u001b[0m\u001b[37m\u001b[0m \u001b[1m0s\u001b[0m 1ms/step - accuracy: 0.6013 - loss: 0.6659 \n",
            "Epoch 10/10\n",
            "\u001b[1m32/32\u001b[0m \u001b[32m━━━━━━━━━━━━━━━━━━━━\u001b[0m\u001b[37m\u001b[0m \u001b[1m0s\u001b[0m 1ms/step - accuracy: 0.5721 - loss: 0.6742 \n"
          ]
        },
        {
          "output_type": "execute_result",
          "data": {
            "text/plain": [
              "<keras.src.callbacks.history.History at 0x7e0d597fa260>"
            ]
          },
          "metadata": {},
          "execution_count": 33
        }
      ],
      "source": [
        "from tensorflow.keras.models import Sequential\n",
        "from tensorflow.keras.layers import Dense, Input\n",
        "import numpy as np\n",
        "\n",
        "# Step 1: Redefine the Model for 20 features\n",
        "model = Sequential([\n",
        "    Input(shape=(20,)),  # Adjust input shape to (20,)\n",
        "    Dense(128, activation='relu'),  # Hidden layer with 128 neurons and ReLU activation\n",
        "    Dense(1, activation='sigmoid')  # Output layer for binary classification with sigmoid activation\n",
        "])\n",
        "\n",
        "# Compile the model\n",
        "model.compile(optimizer='adam', loss='binary_crossentropy', metrics=['accuracy'])\n",
        "\n",
        "# Step 2: Generate Example Data\n",
        "X_train = np.random.rand(1000, 20)  # 1000 samples, 20 features each\n",
        "y_train = np.random.randint(2, size=(1000, 1))  # 1000 binary labels (0 or 1)\n",
        "\n",
        "# Step 3: Train the Model\n",
        "model.fit(X_train, y_train, epochs=10, batch_size=32)"
      ],
      "execution_count": 33
    },
    {
      "cell_type": "markdown",
      "metadata": {
        "id": "a0f0abe8-dffd-4a61-b8a3-9cbb7b714b87"
      },
      "source": [
        "In the above code:\n",
        "\n",
        "`X_train` and `y_train` are placeholders for your actual training data.\n",
        "\n",
        "`model.fit` trains the model for a specified number of epochs and batch size.\n"
      ]
    },
    {
      "cell_type": "markdown",
      "metadata": {
        "id": "73af7f88-da28-4fc1-9baf-24fe46aa1d74"
      },
      "source": [
        "### Exercise 9: Evaluate the Model\n",
        "\n",
        "After training, you can evaluate the model on test data to see how well it performs.\n"
      ]
    },
    {
      "cell_type": "code",
      "metadata": {
        "colab": {
          "base_uri": "https://localhost:8080/"
        },
        "id": "714c0880-de6d-46d1-baea-f6c906ce1ecb",
        "outputId": "334fbb5e-45a8-4a2b-b77d-78122564e01e"
      },
      "outputs": [
        {
          "output_type": "stream",
          "name": "stdout",
          "text": [
            "\u001b[1m7/7\u001b[0m \u001b[32m━━━━━━━━━━━━━━━━━━━━\u001b[0m\u001b[37m\u001b[0m \u001b[1m1s\u001b[0m 48ms/step - accuracy: 0.5148 - loss: 0.7096\n",
            "Test loss: 0.7222875356674194\n",
            "Test accuracy: 0.48500001430511475\n"
          ]
        }
      ],
      "source": [
        "# Example test data (in practice, use real dataset)\n",
        "X_test = np.random.rand(200, 20)  # 200 samples, 20 features each\n",
        "y_test = np.random.randint(2, size=(200, 1))  # 200 binary labels (0 or 1)\n",
        "\n",
        "# Evaluate the model on the test data\n",
        "loss, accuracy = model.evaluate(X_test, y_test)\n",
        "\n",
        "# Print test loss and accuracy\n",
        "print(f'Test loss: {loss}')\n",
        "print(f'Test accuracy: {accuracy}')\n"
      ],
      "execution_count": 34
    },
    {
      "cell_type": "markdown",
      "metadata": {
        "id": "9b57a228-968f-4d52-8ba5-ff9f58bd3235"
      },
      "source": [
        "In the above code:\n",
        "\n",
        "`model.evaluate` computes the loss and accuracy of the model on test data.\n",
        "\n",
        "`X_test` and `y_test` are placeholders for your actual test data.\n"
      ]
    },
    {
      "cell_type": "markdown",
      "metadata": {
        "id": "a3716157-70c1-4ca7-bf20-3761c355cf75"
      },
      "source": [
        "## Practice Exercises\n",
        "\n",
        "### Exercise 1: Basic Custom Training Loop\n",
        "\n",
        "#### Objective: Implement a basic custom training loop to train a simple neural network on the MNIST dataset.\n",
        "\n",
        "#### Instructions:\n",
        "\n",
        "- Set up the environment and load the dataset.\n",
        "\n",
        "- Define the model with a Flatten layer and two Dense layers.\n",
        "\n",
        "- Define the loss function and optimizer.\n",
        "\n",
        "- Implement a custom training loop to iterate over the dataset, compute the loss, and update the model's weights.\n"
      ]
    },
    {
      "cell_type": "code",
      "metadata": {
        "colab": {
          "base_uri": "https://localhost:8080/"
        },
        "id": "27baa5bc-ab07-4c5b-9fb8-4715f36259f6",
        "outputId": "ec258354-66f6-4ed3-b40f-2be1b14fdca0"
      },
      "outputs": [
        {
          "output_type": "stream",
          "name": "stdout",
          "text": [
            "Epoch 1: Loss = 0.053361959755420685\n",
            "Epoch 2: Loss = 0.05207802727818489\n",
            "Epoch 3: Loss = 0.037134211510419846\n",
            "Epoch 4: Loss = 0.022806663066148758\n",
            "Epoch 5: Loss = 0.022424202412366867\n"
          ]
        }
      ],
      "source": [
        "# Import necessary libraries\n",
        "import tensorflow as tf\n",
        "from tensorflow.keras.models import Sequential\n",
        "from tensorflow.keras.layers import Dense, Flatten\n",
        "\n",
        "# Step 1: Set Up the Environment\n",
        "(x_train, y_train), (x_test, y_test) = tf.keras.datasets.mnist.load_data()\n",
        "x_train, x_test = x_train / 255.0, x_test / 255.0\n",
        "train_dataset = tf.data.Dataset.from_tensor_slices((x_train, y_train)).batch(32)\n",
        "\n",
        "# Step 2: Define the Model\n",
        "model = Sequential([\n",
        "    Flatten(input_shape=(28, 28)),\n",
        "    Dense(128, activation='relu'),\n",
        "    Dense(10)\n",
        "])\n",
        "\n",
        "# Step 3: Define Loss Function and Optimizer\n",
        "loss_fn = tf.keras.losses.SparseCategoricalCrossentropy(from_logits=True)\n",
        "optimizer = tf.keras.optimizers.Adam()\n",
        "\n",
        "# Step 4: Implement the Custom Training Loop\n",
        "for epoch in range(5):\n",
        "    for x_batch, y_batch in train_dataset:\n",
        "        with tf.GradientTape() as tape:\n",
        "            logits = model(x_batch, training=True)\n",
        "            loss = loss_fn(y_batch, logits)\n",
        "        grads = tape.gradient(loss, model.trainable_weights)\n",
        "        optimizer.apply_gradients(zip(grads, model.trainable_weights))\n",
        "    print(f'Epoch {epoch + 1}: Loss = {loss.numpy()}')\n"
      ],
      "execution_count": 40
    },
    {
      "cell_type": "markdown",
      "metadata": {
        "id": "6e9c5133-f463-4658-8f91-f4a5cb884dce"
      },
      "source": [
        "<details>\n",
        "<summary>Click here for solution</summary> </br>\n",
        "\n",
        "```python\n",
        "# Import necessary libraries\n",
        "import tensorflow as tf\n",
        "from tensorflow.keras.models import Sequential\n",
        "from tensorflow.keras.layers import Dense, Flatten\n",
        "\n",
        "# Step 1: Set Up the Environment\n",
        "(x_train, y_train), (x_test, y_test) = tf.keras.datasets.mnist.load_data()\n",
        "x_train, x_test = x_train / 255.0, x_test / 255.0\n",
        "train_dataset = tf.data.Dataset.from_tensor_slices((x_train, y_train)).batch(32)\n",
        "\n",
        "# Step 2: Define the Model\n",
        "model = Sequential([\n",
        "    Flatten(input_shape=(28, 28)),\n",
        "    Dense(128, activation='relu'),\n",
        "    Dense(10)\n",
        "])\n",
        "\n",
        "# Step 3: Define Loss Function and Optimizer\n",
        "loss_fn = tf.keras.losses.SparseCategoricalCrossentropy(from_logits=True)\n",
        "optimizer = tf.keras.optimizers.Adam()\n",
        "\n",
        "# Step 4: Implement the Custom Training Loop\n",
        "for epoch in range(5):\n",
        "    for x_batch, y_batch in train_dataset:\n",
        "        with tf.GradientTape() as tape:\n",
        "            logits = model(x_batch, training=True)\n",
        "            loss = loss_fn(y_batch, logits)\n",
        "        grads = tape.gradient(loss, model.trainable_weights)\n",
        "        optimizer.apply_gradients(zip(grads, model.trainable_weights))\n",
        "    print(f'Epoch {epoch + 1}: Loss = {loss.numpy()}')\n"
      ]
    },
    {
      "cell_type": "markdown",
      "metadata": {
        "id": "dac30c9b-f5ad-402c-8417-292d3f9717bd"
      },
      "source": [
        "### Exercise 2: Adding Accuracy Metric\n",
        "\n",
        "#### Objective: Enhance the custom training loop by adding an accuracy metric to monitor model performance.\n",
        "\n",
        "#### Instructions:\n",
        "\n",
        "1. Set up the environment and define the model, loss function, and optimizer.\n",
        "\n",
        "2. Add Sparse Categorical Accuracy as a metric.\n",
        "\n",
        "3. Implement the custom training loop with accuracy tracking.\n"
      ]
    },
    {
      "cell_type": "code",
      "metadata": {
        "colab": {
          "base_uri": "https://localhost:8080/"
        },
        "id": "d5ee0f57-de70-4464-8399-d7c78b10cba5",
        "outputId": "37711111-c5a5-4298-86b8-d977a349ff29"
      },
      "outputs": [
        {
          "output_type": "stream",
          "name": "stdout",
          "text": [
            "Epoch 1: Loss = 0.05605853348970413 Accuracy = 0.9226499795913696\n",
            "Epoch 2: Loss = 0.04154618829488754 Accuracy = 0.9652166962623596\n",
            "Epoch 3: Loss = 0.03791193664073944 Accuracy = 0.9767000079154968\n",
            "Epoch 4: Loss = 0.024156851693987846 Accuracy = 0.9829999804496765\n",
            "Epoch 5: Loss = 0.014529514126479626 Accuracy = 0.9878333210945129\n"
          ]
        }
      ],
      "source": [
        "# Import necessary libraries\n",
        "import tensorflow as tf\n",
        "from tensorflow.keras.models import Sequential\n",
        "from tensorflow.keras.layers import Dense, Flatten\n",
        "\n",
        "# Step 1: Set Up the Environment\n",
        "(x_train, y_train), _ = tf.keras.datasets.mnist.load_data()\n",
        "x_train = x_train / 255.0\n",
        "train_dataset = tf.data.Dataset.from_tensor_slices((x_train, y_train)).batch(32)\n",
        "\n",
        "# Step 2: Define the Model\n",
        "model = Sequential([\n",
        "    Flatten(input_shape=(28, 28)),\n",
        "    Dense(128, activation='relu'),\n",
        "    Dense(10)\n",
        "])\n",
        "\n",
        "# Step 3: Define Loss Function, Optimizer, and Metric\n",
        "loss_fn = tf.keras.losses.SparseCategoricalCrossentropy(from_logits=True)\n",
        "optimizer = tf.keras.optimizers.Adam()\n",
        "accuracy_metric = tf.keras.metrics.SparseCategoricalAccuracy()\n",
        "\n",
        "# Step 4: Implement the Custom Training Loop with Accuracy Tracking\n",
        "epochs = 5\n",
        "for epoch in range(epochs):\n",
        "    for x_batch, y_batch in train_dataset:\n",
        "        with tf.GradientTape() as tape:\n",
        "            logits = model(x_batch, training=True)\n",
        "            loss = loss_fn(y_batch, logits)\n",
        "        grads = tape.gradient(loss, model.trainable_weights)\n",
        "        optimizer.apply_gradients(zip(grads, model.trainable_weights))\n",
        "        accuracy_metric.update_state(y_batch, logits)\n",
        "    print(f'Epoch {epoch + 1}: Loss = {loss.numpy()} Accuracy = {accuracy_metric.result().numpy()}')\n",
        "    accuracy_metric.reset_state()\n"
      ],
      "execution_count": 41
    },
    {
      "cell_type": "markdown",
      "metadata": {
        "id": "b979395e-b915-4d6f-824d-872e355c433c"
      },
      "source": [
        "<details>\n",
        "<summary>Click here for solution</summary><br>\n",
        "\n",
        "```python\n",
        "# Import necessary libraries\n",
        "import tensorflow as tf\n",
        "from tensorflow.keras.models import Sequential\n",
        "from tensorflow.keras.layers import Dense, Flatten\n",
        "\n",
        "# Step 1: Set Up the Environment\n",
        "(x_train, y_train), _ = tf.keras.datasets.mnist.load_data()\n",
        "x_train = x_train / 255.0\n",
        "train_dataset = tf.data.Dataset.from_tensor_slices((x_train, y_train)).batch(32)\n",
        "\n",
        "# Step 2: Define the Model\n",
        "model = Sequential([\n",
        "    Flatten(input_shape=(28, 28)),\n",
        "    Dense(128, activation='relu'),\n",
        "    Dense(10)\n",
        "])\n",
        "\n",
        "# Step 3: Define Loss Function, Optimizer, and Metric\n",
        "loss_fn = tf.keras.losses.SparseCategoricalCrossentropy(from_logits=True)\n",
        "optimizer = tf.keras.optimizers.Adam()\n",
        "accuracy_metric = tf.keras.metrics.SparseCategoricalAccuracy()\n",
        "\n",
        "# Step 4: Implement the Custom Training Loop with Accuracy Tracking\n",
        "epochs = 5\n",
        "for epoch in range(epochs):\n",
        "    for x_batch, y_batch in train_dataset:\n",
        "        with tf.GradientTape() as tape:\n",
        "            logits = model(x_batch, training=True)\n",
        "            loss = loss_fn(y_batch, logits)\n",
        "        grads = tape.gradient(loss, model.trainable_weights)\n",
        "        optimizer.apply_gradients(zip(grads, model.trainable_weights))\n",
        "        accuracy_metric.update_state(y_batch, logits)\n",
        "    print(f'Epoch {epoch + 1}: Loss = {loss.numpy()} Accuracy = {accuracy_metric.result().numpy()}')\n",
        "    accuracy_metric.reset_state()\n"
      ]
    },
    {
      "cell_type": "markdown",
      "metadata": {
        "id": "9ff1a85e-8fe1-4d92-a580-076b8cc0f0eb"
      },
      "source": [
        "### Exercise 3: Custom Callback for Advanced Logging\n",
        "\n",
        "#### Objective: Implement a custom callback to log additional metrics and information during training.\n",
        "\n",
        "#### Instructions:\n",
        "\n",
        "1. Set up the environment and define the model, loss function, optimizer, and metric.\n",
        "\n",
        "2. Create a custom callback to log additional metrics at the end of each epoch.\n",
        "\n",
        "3. Implement the custom training loop with the custom callback.\n"
      ]
    },
    {
      "cell_type": "code",
      "metadata": {
        "colab": {
          "base_uri": "https://localhost:8080/"
        },
        "id": "ccf29a1a-8e71-4571-9a0a-7a1d51aaff89",
        "outputId": "fda2fd9a-7109-4adc-da1a-86f1cd625680"
      },
      "outputs": [
        {
          "output_type": "stream",
          "name": "stdout",
          "text": [
            "End of epoch 1, loss: 0.03519536554813385, accuracy: 0.9236166477203369\n",
            "End of epoch 2, loss: 0.030725479125976562, accuracy: 0.964983344078064\n",
            "End of epoch 3, loss: 0.03175700455904007, accuracy: 0.9760333299636841\n",
            "End of epoch 4, loss: 0.041387733072042465, accuracy: 0.982699990272522\n",
            "End of epoch 5, loss: 0.03486110270023346, accuracy: 0.9875333309173584\n"
          ]
        }
      ],
      "source": [
        "# Import necessary libraries\n",
        "import tensorflow as tf\n",
        "from tensorflow.keras.models import Sequential\n",
        "from tensorflow.keras.layers import Dense, Flatten\n",
        "from tensorflow.keras.callbacks import Callback\n",
        "\n",
        "# Step 1: Set Up the Environment\n",
        "(x_train, y_train), (x_test, y_test) = tf.keras.datasets.mnist.load_data()\n",
        "x_train = x_train / 255.0\n",
        "train_dataset = tf.data.Dataset.from_tensor_slices((x_train, y_train)).batch(32)\n",
        "\n",
        "# Step 2: Define the Model\n",
        "model = Sequential([\n",
        "    tf.keras.Input(shape=(28, 28)),  # Updated Input layer syntax\n",
        "    Flatten(),\n",
        "    Dense(128, activation='relu'),\n",
        "    Dense(10)\n",
        "])\n",
        "\n",
        "# Step 3: Define Loss Function, Optimizer, and Metric\n",
        "loss_fn = tf.keras.losses.SparseCategoricalCrossentropy(from_logits=True)\n",
        "optimizer = tf.keras.optimizers.Adam()\n",
        "accuracy_metric = tf.keras.metrics.SparseCategoricalAccuracy()\n",
        "\n",
        "# Step 4: Implement the Custom Callback\n",
        "class CustomCallback(Callback):\n",
        "    def on_epoch_end(self, epoch, logs=None):\n",
        "        print(f'End of epoch {epoch + 1}, loss: {logs.get(\"loss\")}, accuracy: {logs.get(\"accuracy\")}')\n",
        "\n",
        "# Step 5: Implement the Custom Training Loop with Custom Callback\n",
        "custom_callback = CustomCallback()\n",
        "\n",
        "for epoch in range(5):\n",
        "    for x_batch, y_batch in train_dataset:\n",
        "        with tf.GradientTape() as tape:\n",
        "            logits = model(x_batch, training=True)\n",
        "            loss = loss_fn(y_batch, logits)\n",
        "        grads = tape.gradient(loss, model.trainable_weights)\n",
        "        optimizer.apply_gradients(zip(grads, model.trainable_weights))\n",
        "        accuracy_metric.update_state(y_batch, logits)\n",
        "    custom_callback.on_epoch_end(epoch, logs={'loss': loss.numpy(), 'accuracy': accuracy_metric.result().numpy()})\n",
        "    accuracy_metric.reset_state()  # Updated method\n"
      ],
      "execution_count": 42
    },
    {
      "cell_type": "markdown",
      "metadata": {
        "id": "0059837f-303a-42a9-b7a7-2189486d998f"
      },
      "source": [
        "<details>\n",
        "<summary>Click here for solution</summary> </br>\n",
        "\n",
        "```python\n",
        "# Import necessary libraries\n",
        "import tensorflow as tf\n",
        "from tensorflow.keras.models import Sequential\n",
        "from tensorflow.keras.layers import Dense, Flatten\n",
        "from tensorflow.keras.callbacks import Callback\n",
        "\n",
        "# Step 1: Set Up the Environment\n",
        "(x_train, y_train), (x_test, y_test) = tf.keras.datasets.mnist.load_data()\n",
        "x_train = x_train / 255.0\n",
        "train_dataset = tf.data.Dataset.from_tensor_slices((x_train, y_train)).batch(32)\n",
        "\n",
        "# Step 2: Define the Model\n",
        "model = Sequential([\n",
        "    tf.keras.Input(shape=(28, 28)),  # Updated Input layer syntax\n",
        "    Flatten(),\n",
        "    Dense(128, activation='relu'),\n",
        "    Dense(10)\n",
        "])\n",
        "\n",
        "# Step 3: Define Loss Function, Optimizer, and Metric\n",
        "loss_fn = tf.keras.losses.SparseCategoricalCrossentropy(from_logits=True)\n",
        "optimizer = tf.keras.optimizers.Adam()\n",
        "accuracy_metric = tf.keras.metrics.SparseCategoricalAccuracy()\n",
        "\n",
        "# Step 4: Implement the Custom Callback\n",
        "class CustomCallback(Callback):\n",
        "    def on_epoch_end(self, epoch, logs=None):\n",
        "        print(f'End of epoch {epoch + 1}, loss: {logs.get(\"loss\")}, accuracy: {logs.get(\"accuracy\")}')\n",
        "\n",
        "# Step 5: Implement the Custom Training Loop with Custom Callback\n",
        "custom_callback = CustomCallback()\n",
        "\n",
        "for epoch in range(5):\n",
        "    for x_batch, y_batch in train_dataset:\n",
        "        with tf.GradientTape() as tape:\n",
        "            logits = model(x_batch, training=True)\n",
        "            loss = loss_fn(y_batch, logits)\n",
        "        grads = tape.gradient(loss, model.trainable_weights)\n",
        "        optimizer.apply_gradients(zip(grads, model.trainable_weights))\n",
        "        accuracy_metric.update_state(y_batch, logits)\n",
        "    custom_callback.on_epoch_end(epoch, logs={'loss': loss.numpy(), 'accuracy': accuracy_metric.result().numpy()})\n",
        "    accuracy_metric.reset_state()  # Updated method\n",
        "\n"
      ]
    },
    {
      "cell_type": "markdown",
      "metadata": {
        "id": "fdaa30a2-3560-4d90-b4d2-53346de3bc48"
      },
      "source": [
        "### Exercise 4: Lab - Hyperparameter Tuning\n",
        "\n",
        "#### Enhancement: Add functionality to save the results of each hyperparameter tuning iteration as JSON files in a specified directory.\n",
        "\n",
        "#### Additional Instructions:\n",
        "\n",
        "Modify the tuning loop to save each iteration's results as JSON files.\n",
        "\n",
        "Specify the directory where these JSON files will be stored for easier retrieval and analysis of tuning results.\n"
      ]
    },
    {
      "cell_type": "code",
      "source": [
        "# %pip install keras-tuner"
      ],
      "metadata": {
        "colab": {
          "base_uri": "https://localhost:8080/"
        },
        "id": "n0ls5i4oexaf",
        "outputId": "cedd34f7-7c75-4ce8-c8aa-5b6acc1d47e9"
      },
      "execution_count": 44,
      "outputs": [
        {
          "output_type": "stream",
          "name": "stdout",
          "text": [
            "Collecting keras-tuner\n",
            "  Downloading keras_tuner-1.4.7-py3-none-any.whl.metadata (5.4 kB)\n",
            "Requirement already satisfied: keras in /usr/local/lib/python3.10/dist-packages (from keras-tuner) (3.5.0)\n",
            "Requirement already satisfied: packaging in /usr/local/lib/python3.10/dist-packages (from keras-tuner) (24.2)\n",
            "Requirement already satisfied: requests in /usr/local/lib/python3.10/dist-packages (from keras-tuner) (2.32.3)\n",
            "Collecting kt-legacy (from keras-tuner)\n",
            "  Downloading kt_legacy-1.0.5-py3-none-any.whl.metadata (221 bytes)\n",
            "Requirement already satisfied: absl-py in /usr/local/lib/python3.10/dist-packages (from keras->keras-tuner) (1.4.0)\n",
            "Requirement already satisfied: numpy in /usr/local/lib/python3.10/dist-packages (from keras->keras-tuner) (1.26.4)\n",
            "Requirement already satisfied: rich in /usr/local/lib/python3.10/dist-packages (from keras->keras-tuner) (13.9.4)\n",
            "Requirement already satisfied: namex in /usr/local/lib/python3.10/dist-packages (from keras->keras-tuner) (0.0.8)\n",
            "Requirement already satisfied: h5py in /usr/local/lib/python3.10/dist-packages (from keras->keras-tuner) (3.12.1)\n",
            "Requirement already satisfied: optree in /usr/local/lib/python3.10/dist-packages (from keras->keras-tuner) (0.13.1)\n",
            "Requirement already satisfied: ml-dtypes in /usr/local/lib/python3.10/dist-packages (from keras->keras-tuner) (0.4.1)\n",
            "Requirement already satisfied: charset-normalizer<4,>=2 in /usr/local/lib/python3.10/dist-packages (from requests->keras-tuner) (3.4.0)\n",
            "Requirement already satisfied: idna<4,>=2.5 in /usr/local/lib/python3.10/dist-packages (from requests->keras-tuner) (3.10)\n",
            "Requirement already satisfied: urllib3<3,>=1.21.1 in /usr/local/lib/python3.10/dist-packages (from requests->keras-tuner) (2.2.3)\n",
            "Requirement already satisfied: certifi>=2017.4.17 in /usr/local/lib/python3.10/dist-packages (from requests->keras-tuner) (2024.12.14)\n",
            "Requirement already satisfied: typing-extensions>=4.5.0 in /usr/local/lib/python3.10/dist-packages (from optree->keras->keras-tuner) (4.12.2)\n",
            "Requirement already satisfied: markdown-it-py>=2.2.0 in /usr/local/lib/python3.10/dist-packages (from rich->keras->keras-tuner) (3.0.0)\n",
            "Requirement already satisfied: pygments<3.0.0,>=2.13.0 in /usr/local/lib/python3.10/dist-packages (from rich->keras->keras-tuner) (2.18.0)\n",
            "Requirement already satisfied: mdurl~=0.1 in /usr/local/lib/python3.10/dist-packages (from markdown-it-py>=2.2.0->rich->keras->keras-tuner) (0.1.2)\n",
            "Downloading keras_tuner-1.4.7-py3-none-any.whl (129 kB)\n",
            "\u001b[?25l   \u001b[90m━━━━━━━━━━━━━━━━━━━━━━━━━━━━━━━━━━━━━━━━\u001b[0m \u001b[32m0.0/129.1 kB\u001b[0m \u001b[31m?\u001b[0m eta \u001b[36m-:--:--\u001b[0m\r\u001b[2K   \u001b[90m━━━━━━━━━━━━━━━━━━━━━━━━━━━━━━━━━━━━━━━━\u001b[0m \u001b[32m129.1/129.1 kB\u001b[0m \u001b[31m4.0 MB/s\u001b[0m eta \u001b[36m0:00:00\u001b[0m\n",
            "\u001b[?25hDownloading kt_legacy-1.0.5-py3-none-any.whl (9.6 kB)\n",
            "Installing collected packages: kt-legacy, keras-tuner\n",
            "Successfully installed keras-tuner-1.4.7 kt-legacy-1.0.5\n"
          ]
        }
      ]
    },
    {
      "cell_type": "code",
      "metadata": {
        "colab": {
          "base_uri": "https://localhost:8080/"
        },
        "id": "80eb3640-4655-4c5e-8b91-e577e68b8b01",
        "outputId": "7b5e0bf1-1393-40c5-afe6-75a44ef5558e"
      },
      "outputs": [
        {
          "output_type": "stream",
          "name": "stdout",
          "text": [
            "Reloading Tuner from tuner_results/hyperparam_tuning/tuner0.json\n"
          ]
        }
      ],
      "source": [
        "import json\n",
        "import os\n",
        "import keras_tuner as kt\n",
        "from tensorflow.keras import Sequential\n",
        "from tensorflow.keras.layers import Dense\n",
        "from tensorflow.keras.optimizers import Adam\n",
        "from sklearn.model_selection import train_test_split\n",
        "from sklearn.datasets import make_classification\n",
        "\n",
        "# Step 1: Load your dataset\n",
        "X, y = make_classification(n_samples=1000, n_features=20, n_classes=2)\n",
        "X_train, X_val, y_train, y_val = train_test_split(X, y, test_size=0.2)\n",
        "\n",
        "# Step 2: Define the model-building function\n",
        "def build_model(hp):\n",
        "    model = Sequential()\n",
        "    # Tune the number of units in the first Dense layer\n",
        "    model.add(Dense(units=hp.Int('units', min_value=32, max_value=512, step=32),\n",
        "                    activation='relu'))\n",
        "    model.add(Dense(1, activation='sigmoid'))  # Binary classification example\n",
        "    model.compile(optimizer=Adam(hp.Float('learning_rate', 1e-4, 1e-2, sampling='LOG')),\n",
        "                  loss='binary_crossentropy',\n",
        "                  metrics=['accuracy'])\n",
        "    return model\n",
        "\n",
        "directory = 'tuner_results'\n",
        "project_name = 'hyperparam_tuning'\n",
        "\n",
        "# Step 3: Initialize a Keras Tuner RandomSearch tuner\n",
        "tuner = kt.RandomSearch(\n",
        "    build_model,\n",
        "    objective='val_accuracy',\n",
        "    max_trials=10,  # Set the number of trials\n",
        "    executions_per_trial=1,  # Set how many executions per trial\n",
        "    directory=directory,  # Directory for saving logs\n",
        "    project_name=project_name)\n",
        "\n",
        "# Step 4: Run the tuner search (make sure the data is correct)\n",
        "tuner.search(X_train, y_train, validation_data=(X_val, y_val), epochs=5)"
      ],
      "execution_count": 54
    },
    {
      "cell_type": "code",
      "source": [
        "# Step 5: Save the tuning results as JSON files\n",
        "repetitions = 10\n",
        "span_digits = len(str(repetitions))\n",
        "\n",
        "try:\n",
        "    for i in range(10):\n",
        "        # Fetch the best hyperparameters from the tuner\n",
        "        best_hps = tuner.get_best_hyperparameters(num_trials=1)[0]\n",
        "\n",
        "        # Results dictionary to save hyperparameters and score\n",
        "        results = {\n",
        "            \"trial\": i + 1,\n",
        "            \"hyperparameters\": best_hps.values,  # Hyperparameters tuned in this trial\n",
        "            \"score\": None  # Add any score or metrics if available\n",
        "        }\n",
        "\n",
        "        # Save the results as JSON\n",
        "        # with open(os.path.join('tuning_results', f\"trial_{i + 1}.json\"), \"w\") as f:\n",
        "\n",
        "        padded = str(i).zfill(span_digits)\n",
        "        with open(os.path.join(directory, project_name, f\"trial_{padded}\", \"trial.json\"), \"w\") as f:\n",
        "            json.dump(results, f)\n",
        "\n",
        "except IndexError:\n",
        "    print(\"Tuning process has not completed or no results available.\")"
      ],
      "metadata": {
        "id": "J6ZXi--Zhu0y"
      },
      "execution_count": 56,
      "outputs": []
    },
    {
      "cell_type": "markdown",
      "metadata": {
        "id": "749161c1-b272-4289-bc9e-538b01f37046"
      },
      "source": [
        "<details>\n",
        "<summary>Click here for solution</summary> </br>\n",
        "\n",
        "```python\n",
        "!pip install keras-tuner\n",
        "!pip install scikit-learn\n",
        "\n",
        "import json\n",
        "import os\n",
        "import keras_tuner as kt\n",
        "from tensorflow.keras import Sequential\n",
        "from tensorflow.keras.layers import Dense\n",
        "from tensorflow.keras.optimizers import Adam\n",
        "from sklearn.model_selection import train_test_split\n",
        "from sklearn.datasets import make_classification\n",
        "\n",
        "# Step 1: Load your dataset\n",
        "X, y = make_classification(n_samples=1000, n_features=20, n_classes=2)\n",
        "X_train, X_val, y_train, y_val = train_test_split(X, y, test_size=0.2)\n",
        "\n",
        "# Step 2: Define the model-building function\n",
        "def build_model(hp):\n",
        "    model = Sequential()\n",
        "    # Tune the number of units in the first Dense layer\n",
        "    model.add(Dense(units=hp.Int('units', min_value=32, max_value=512, step=32),\n",
        "                    activation='relu'))\n",
        "    model.add(Dense(1, activation='sigmoid'))  # Binary classification example\n",
        "    model.compile(optimizer=Adam(hp.Float('learning_rate', 1e-4, 1e-2, sampling='LOG')),\n",
        "                  loss='binary_crossentropy',\n",
        "                  metrics=['accuracy'])\n",
        "    return model\n",
        "\n",
        "# Step 3: Initialize a Keras Tuner RandomSearch tuner\n",
        "tuner = kt.RandomSearch(\n",
        "    build_model,\n",
        "    objective='val_accuracy',\n",
        "    max_trials=10,  # Set the number of trials\n",
        "    executions_per_trial=1,  # Set how many executions per trial\n",
        "    directory='tuner_results',  # Directory for saving logs\n",
        "    project_name='hyperparam_tuning'\n",
        ")\n",
        "\n",
        "# Step 4: Run the tuner search (make sure the data is correct)\n",
        "tuner.search(X_train, y_train, validation_data=(X_val, y_val), epochs=5)\n",
        "\n",
        "# Step 5: Save the tuning results as JSON files\n",
        "try:\n",
        "    for i in range(10):\n",
        "        # Fetch the best hyperparameters from the tuner\n",
        "        best_hps = tuner.get_best_hyperparameters(num_trials=1)[0]\n",
        "        \n",
        "        # Results dictionary to save hyperparameters and score\n",
        "        results = {\n",
        "            \"trial\": i + 1,\n",
        "            \"hyperparameters\": best_hps.values,  # Hyperparameters tuned in this trial\n",
        "            \"score\": None  # Add any score or metrics if available\n",
        "        }\n",
        "\n",
        "        # Save the results as JSON\n",
        "        with open(os.path.join('tuning_results', f\"trial_{i + 1}.json\"), \"w\") as f:\n",
        "            json.dump(results, f)\n",
        "\n",
        "except IndexError:\n",
        "    print(\"Tuning process has not completed or no results available.\")\n",
        " ```   \n",
        "\n",
        "</details>\n"
      ]
    },
    {
      "cell_type": "markdown",
      "metadata": {
        "id": "87767081-4566-4f33-9e70-33ece4894793"
      },
      "source": [
        "### Exercise 5: Explanation of Hyperparameter Tuning\n",
        "\n",
        "**Addition to Explanation:** Add a note explaining the purpose of num_trials in the hyperparameter tuning context:\n"
      ]
    },
    {
      "cell_type": "code",
      "metadata": {
        "id": "5ff5d626-21e2-49b4-91a8-e0669d8cde39"
      },
      "outputs": [],
      "source": [
        "# Write your code here\n"
      ],
      "execution_count": 39
    },
    {
      "cell_type": "markdown",
      "metadata": {
        "id": "92df4870-fa52-4b32-bfe1-382280d8e645"
      },
      "source": [
        "<details>\n",
        "<summary>Click here for solution</summary> </br>\n",
        "\n",
        "```python\n",
        "Explanation: \"num_trials specifies the number of top hyperparameter sets to return. Setting num_trials=1 means that it will return only the best set of hyperparameters found during the tuning process.\"\n",
        " ```   \n",
        "\n",
        "</details>\n"
      ]
    },
    {
      "cell_type": "markdown",
      "metadata": {
        "id": "0e579e35-aa44-4d80-be3f-f72112a76ab4"
      },
      "source": [
        "### Conclusion:\n",
        "\n",
        "Congratulations on completing this lab! You have now successfully created, trained, and evaluated a simple neural network model using the Keras Functional API. This foundational knowledge will allow you to build more complex models and explore advanced functionalities in Keras.\n"
      ]
    },
    {
      "cell_type": "markdown",
      "metadata": {
        "id": "2d5f8b86-5f72-4904-aa74-b8323e22a484"
      },
      "source": [
        "Copyright © IBM Corporation. All rights reserved.\n"
      ]
    }
  ],
  "metadata": {
    "kernelspec": {
      "display_name": "Python 3 (ipykernel)",
      "language": "python",
      "name": "python3"
    },
    "language_info": {
      "codemirror_mode": {
        "name": "ipython",
        "version": 3
      },
      "file_extension": ".py",
      "mimetype": "text/x-python",
      "name": "python",
      "nbconvert_exporter": "python",
      "pygments_lexer": "ipython3",
      "version": "3.11.9"
    },
    "prev_pub_hash": "48a1eb2565c8b635156cd21708473ccadb84e292e93f3530a9d5223b7590344e",
    "colab": {
      "provenance": [],
      "include_colab_link": true
    }
  },
  "nbformat": 4,
  "nbformat_minor": 0
}